{
  "nbformat": 4,
  "nbformat_minor": 0,
  "metadata": {
    "kernelspec": {
      "display_name": "Python 3",
      "language": "python",
      "name": "python3"
    },
    "language_info": {
      "codemirror_mode": {
        "name": "ipython",
        "version": 3
      },
      "file_extension": ".py",
      "mimetype": "text/x-python",
      "name": "python",
      "nbconvert_exporter": "python",
      "pygments_lexer": "ipython3",
      "version": "3.6.9"
    },
    "colab": {
      "name": "07장_선형 SVM.ipynb",
      "provenance": []
    }
  },
  "cells": [
    {
      "cell_type": "markdown",
      "metadata": {
        "id": "lGypXS7uqFZp"
      },
      "source": [
        "## 7장 Support Vector machine\n",
        "\n",
        "### 선형 SVM"
      ]
    },
    {
      "cell_type": "code",
      "metadata": {
        "scrolled": true,
        "id": "3rtPjsR-p38b"
      },
      "source": [
        "##5장에서 사용한 iris data 사용\n",
        "\n",
        "import seaborn as sns\n",
        "iris=sns.load_dataset('iris') # iris data 불러오기\n",
        "X=iris.drop('species',axis=1) # 특성변수만으로 구성된 X data Frame 생성\n",
        "y=iris['species']             # 분류의 목적 변수만으로 구성된 y data Frame생성\n",
        "\n",
        "from sklearn.preprocessing import LabelEncoder #범주형 변수 숫자로 치환하는 함수 호출\n",
        "classle=LabelEncoder()\n",
        "y=classle.fit_transform(iris['species'].values)#범주형 변수 숫자로 치환\n",
        "\n",
        "from sklearn.model_selection import train_test_split #train set과 test set으로 데이터 나누기 위한 함수 호출\n",
        "X_train,X_test,y_train,y_test=train_test_split(X,y, test_size=0.3, random_state=123, stratify=y)\n",
        "\n"
      ],
      "execution_count": null,
      "outputs": []
    },
    {
      "cell_type": "code",
      "metadata": {
        "id": "D9byqc0sp38g"
      },
      "source": [
        "#7.3 Python을 이용한 SVM\n",
        "from sklearn.svm import SVC #SVM함수의 호출\n",
        "svm=SVC(kernel='linear',C=1.0,random_state=1)\n",
        "svm.fit(X_train,y_train) #SVM추정\n",
        "y_train_pred=svm.predict(X_train) #train set의 y 예측치 구하기\n",
        "y_test_pred=svm.predict(X_test)  #test set의 y예측치 구하기"
      ],
      "execution_count": null,
      "outputs": []
    },
    {
      "cell_type": "code",
      "metadata": {
        "id": "wNIKfMDsp38j",
        "outputId": "4ab9263f-2d2e-42a2-f784-13e3a6450364",
        "colab": {
          "base_uri": "https://localhost:8080/"
        }
      },
      "source": [
        "print(svm.support_)\n",
        "print(svm.n_support_)"
      ],
      "execution_count": null,
      "outputs": [
        {
          "output_type": "stream",
          "text": [
            "[ 21  43 101   8  23  33  38  42  54  58  76  82  85   5  10  19  27  41\n",
            "  59  60  95]\n",
            "[ 3 10  8]\n"
          ],
          "name": "stdout"
        }
      ]
    },
    {
      "cell_type": "code",
      "metadata": {
        "id": "vTTK9MBkp38o",
        "outputId": "5bed366c-b839-485e-e6c0-0b817083eea1",
        "colab": {
          "base_uri": "https://localhost:8080/"
        }
      },
      "source": [
        "from sklearn import metrics\n",
        "print(metrics.accuracy_score(y_train,y_train_pred))  # train set의 accuracy ratio\n",
        "print(metrics.accuracy_score(y_test,y_test_pred))   # test set의 accuracy ratio"
      ],
      "execution_count": null,
      "outputs": [
        {
          "output_type": "stream",
          "text": [
            "0.9904761904761905\n",
            "0.9777777777777777\n"
          ],
          "name": "stdout"
        }
      ]
    },
    {
      "cell_type": "code",
      "metadata": {
        "id": "Q4UpsfTBp38x",
        "outputId": "7acbe4b6-4ea1-45d8-95f6-4f4dc3d1f88e",
        "colab": {
          "base_uri": "https://localhost:8080/"
        }
      },
      "source": [
        "metrics.confusion_matrix(y_test,y_test_pred)  #confusion_matrix"
      ],
      "execution_count": null,
      "outputs": [
        {
          "output_type": "execute_result",
          "data": {
            "text/plain": [
              "array([[15,  0,  0],\n",
              "       [ 0, 14,  1],\n",
              "       [ 0,  0, 15]])"
            ]
          },
          "metadata": {
            "tags": []
          },
          "execution_count": 6
        }
      ]
    },
    {
      "cell_type": "code",
      "metadata": {
        "id": "bDIfLvAwp381",
        "outputId": "234412ff-f162-4d6c-e4d5-0d21f1d65965",
        "colab": {
          "base_uri": "https://localhost:8080/"
        }
      },
      "source": [
        "from sklearn import metrics\n",
        "print(metrics.classification_report(y_test,y_test_pred))   #classification_report"
      ],
      "execution_count": null,
      "outputs": [
        {
          "output_type": "stream",
          "text": [
            "              precision    recall  f1-score   support\n",
            "\n",
            "           0       1.00      1.00      1.00        15\n",
            "           1       1.00      0.93      0.97        15\n",
            "           2       0.94      1.00      0.97        15\n",
            "\n",
            "    accuracy                           0.98        45\n",
            "   macro avg       0.98      0.98      0.98        45\n",
            "weighted avg       0.98      0.98      0.98        45\n",
            "\n"
          ],
          "name": "stdout"
        }
      ]
    },
    {
      "cell_type": "code",
      "metadata": {
        "id": "zyNgDoSLrLun"
      },
      "source": [
        ""
      ],
      "execution_count": null,
      "outputs": []
    }
  ]
}