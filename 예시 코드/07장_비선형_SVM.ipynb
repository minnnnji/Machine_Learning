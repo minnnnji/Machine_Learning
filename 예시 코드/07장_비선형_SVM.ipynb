{
  "nbformat": 4,
  "nbformat_minor": 0,
  "metadata": {
    "kernelspec": {
      "display_name": "Python 3",
      "language": "python",
      "name": "python3"
    },
    "language_info": {
      "codemirror_mode": {
        "name": "ipython",
        "version": 3
      },
      "file_extension": ".py",
      "mimetype": "text/x-python",
      "name": "python",
      "nbconvert_exporter": "python",
      "pygments_lexer": "ipython3",
      "version": "3.6.9"
    },
    "colab": {
      "name": "07장_비선형 SVM.ipynb",
      "provenance": []
    },
    "widgets": {
      "application/vnd.jupyter.widget-state+json": {
        "811db03629da4a93bbcf09d63c925fb9": {
          "model_module": "@jupyter-widgets/controls",
          "model_name": "VBoxModel",
          "state": {
            "_view_name": "VBoxView",
            "_dom_classes": [
              "widget-interact"
            ],
            "_model_name": "VBoxModel",
            "_view_module": "@jupyter-widgets/controls",
            "_model_module_version": "1.5.0",
            "_view_count": null,
            "_view_module_version": "1.5.0",
            "box_style": "",
            "layout": "IPY_MODEL_dff6001a2b3d4a1da00bb00f1149afe1",
            "_model_module": "@jupyter-widgets/controls",
            "children": [
              "IPY_MODEL_66c19536450d421583ccf80f0300a323",
              "IPY_MODEL_89cfbf0b40604090a27fb849dda55051",
              "IPY_MODEL_2564e2c192614294952ee30ae65bb7a3"
            ]
          }
        },
        "dff6001a2b3d4a1da00bb00f1149afe1": {
          "model_module": "@jupyter-widgets/base",
          "model_name": "LayoutModel",
          "state": {
            "_view_name": "LayoutView",
            "grid_template_rows": null,
            "right": null,
            "justify_content": null,
            "_view_module": "@jupyter-widgets/base",
            "overflow": null,
            "_model_module_version": "1.2.0",
            "_view_count": null,
            "flex_flow": null,
            "width": null,
            "min_width": null,
            "border": null,
            "align_items": null,
            "bottom": null,
            "_model_module": "@jupyter-widgets/base",
            "top": null,
            "grid_column": null,
            "overflow_y": null,
            "overflow_x": null,
            "grid_auto_flow": null,
            "grid_area": null,
            "grid_template_columns": null,
            "flex": null,
            "_model_name": "LayoutModel",
            "justify_items": null,
            "grid_row": null,
            "max_height": null,
            "align_content": null,
            "visibility": null,
            "align_self": null,
            "height": null,
            "min_height": null,
            "padding": null,
            "grid_auto_rows": null,
            "grid_gap": null,
            "max_width": null,
            "order": null,
            "_view_module_version": "1.2.0",
            "grid_template_areas": null,
            "object_position": null,
            "object_fit": null,
            "grid_auto_columns": null,
            "margin": null,
            "display": null,
            "left": null
          }
        },
        "66c19536450d421583ccf80f0300a323": {
          "model_module": "@jupyter-widgets/controls",
          "model_name": "DropdownModel",
          "state": {
            "_options_labels": [
              "-90",
              "90"
            ],
            "_view_name": "DropdownView",
            "style": "IPY_MODEL_e0fe96aea4ff48c1a5f83493152f2d08",
            "_dom_classes": [],
            "description": "elev",
            "_model_name": "DropdownModel",
            "index": 0,
            "_view_module": "@jupyter-widgets/controls",
            "_model_module_version": "1.5.0",
            "_view_count": null,
            "disabled": false,
            "_view_module_version": "1.5.0",
            "description_tooltip": null,
            "_model_module": "@jupyter-widgets/controls",
            "layout": "IPY_MODEL_8b632bfb8e25401795332136a253c817"
          }
        },
        "89cfbf0b40604090a27fb849dda55051": {
          "model_module": "@jupyter-widgets/controls",
          "model_name": "IntSliderModel",
          "state": {
            "_view_name": "IntSliderView",
            "style": "IPY_MODEL_9ee0d6ffc2f1465e9f5e5f3880b435c2",
            "_dom_classes": [],
            "description": "azim",
            "step": 1,
            "_model_name": "IntSliderModel",
            "orientation": "horizontal",
            "max": 90,
            "_view_module": "@jupyter-widgets/controls",
            "_model_module_version": "1.5.0",
            "value": 30,
            "_view_count": null,
            "disabled": false,
            "_view_module_version": "1.5.0",
            "min": -30,
            "continuous_update": true,
            "readout_format": "d",
            "description_tooltip": null,
            "readout": true,
            "_model_module": "@jupyter-widgets/controls",
            "layout": "IPY_MODEL_7cdf1d6bc76a41eeab82256c932e967b"
          }
        },
        "2564e2c192614294952ee30ae65bb7a3": {
          "model_module": "@jupyter-widgets/output",
          "model_name": "OutputModel",
          "state": {
            "_view_name": "OutputView",
            "msg_id": "",
            "_dom_classes": [],
            "_model_name": "OutputModel",
            "outputs": [
              {
                "output_type": "display_data",
                "metadata": {
                  "tags": [],
                  "needs_background": "light"
                },
                "image/png": "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\n",
                "text/plain": "<Figure size 432x288 with 1 Axes>"
              }
            ],
            "_view_module": "@jupyter-widgets/output",
            "_model_module_version": "1.0.0",
            "_view_count": null,
            "_view_module_version": "1.0.0",
            "layout": "IPY_MODEL_8999fc1392354d82929815c02b707861",
            "_model_module": "@jupyter-widgets/output"
          }
        },
        "e0fe96aea4ff48c1a5f83493152f2d08": {
          "model_module": "@jupyter-widgets/controls",
          "model_name": "DescriptionStyleModel",
          "state": {
            "_view_name": "StyleView",
            "_model_name": "DescriptionStyleModel",
            "description_width": "",
            "_view_module": "@jupyter-widgets/base",
            "_model_module_version": "1.5.0",
            "_view_count": null,
            "_view_module_version": "1.2.0",
            "_model_module": "@jupyter-widgets/controls"
          }
        },
        "8b632bfb8e25401795332136a253c817": {
          "model_module": "@jupyter-widgets/base",
          "model_name": "LayoutModel",
          "state": {
            "_view_name": "LayoutView",
            "grid_template_rows": null,
            "right": null,
            "justify_content": null,
            "_view_module": "@jupyter-widgets/base",
            "overflow": null,
            "_model_module_version": "1.2.0",
            "_view_count": null,
            "flex_flow": null,
            "width": null,
            "min_width": null,
            "border": null,
            "align_items": null,
            "bottom": null,
            "_model_module": "@jupyter-widgets/base",
            "top": null,
            "grid_column": null,
            "overflow_y": null,
            "overflow_x": null,
            "grid_auto_flow": null,
            "grid_area": null,
            "grid_template_columns": null,
            "flex": null,
            "_model_name": "LayoutModel",
            "justify_items": null,
            "grid_row": null,
            "max_height": null,
            "align_content": null,
            "visibility": null,
            "align_self": null,
            "height": null,
            "min_height": null,
            "padding": null,
            "grid_auto_rows": null,
            "grid_gap": null,
            "max_width": null,
            "order": null,
            "_view_module_version": "1.2.0",
            "grid_template_areas": null,
            "object_position": null,
            "object_fit": null,
            "grid_auto_columns": null,
            "margin": null,
            "display": null,
            "left": null
          }
        },
        "9ee0d6ffc2f1465e9f5e5f3880b435c2": {
          "model_module": "@jupyter-widgets/controls",
          "model_name": "SliderStyleModel",
          "state": {
            "_view_name": "StyleView",
            "handle_color": null,
            "_model_name": "SliderStyleModel",
            "description_width": "",
            "_view_module": "@jupyter-widgets/base",
            "_model_module_version": "1.5.0",
            "_view_count": null,
            "_view_module_version": "1.2.0",
            "_model_module": "@jupyter-widgets/controls"
          }
        },
        "7cdf1d6bc76a41eeab82256c932e967b": {
          "model_module": "@jupyter-widgets/base",
          "model_name": "LayoutModel",
          "state": {
            "_view_name": "LayoutView",
            "grid_template_rows": null,
            "right": null,
            "justify_content": null,
            "_view_module": "@jupyter-widgets/base",
            "overflow": null,
            "_model_module_version": "1.2.0",
            "_view_count": null,
            "flex_flow": null,
            "width": null,
            "min_width": null,
            "border": null,
            "align_items": null,
            "bottom": null,
            "_model_module": "@jupyter-widgets/base",
            "top": null,
            "grid_column": null,
            "overflow_y": null,
            "overflow_x": null,
            "grid_auto_flow": null,
            "grid_area": null,
            "grid_template_columns": null,
            "flex": null,
            "_model_name": "LayoutModel",
            "justify_items": null,
            "grid_row": null,
            "max_height": null,
            "align_content": null,
            "visibility": null,
            "align_self": null,
            "height": null,
            "min_height": null,
            "padding": null,
            "grid_auto_rows": null,
            "grid_gap": null,
            "max_width": null,
            "order": null,
            "_view_module_version": "1.2.0",
            "grid_template_areas": null,
            "object_position": null,
            "object_fit": null,
            "grid_auto_columns": null,
            "margin": null,
            "display": null,
            "left": null
          }
        },
        "8999fc1392354d82929815c02b707861": {
          "model_module": "@jupyter-widgets/base",
          "model_name": "LayoutModel",
          "state": {
            "_view_name": "LayoutView",
            "grid_template_rows": null,
            "right": null,
            "justify_content": null,
            "_view_module": "@jupyter-widgets/base",
            "overflow": null,
            "_model_module_version": "1.2.0",
            "_view_count": null,
            "flex_flow": null,
            "width": null,
            "min_width": null,
            "border": null,
            "align_items": null,
            "bottom": null,
            "_model_module": "@jupyter-widgets/base",
            "top": null,
            "grid_column": null,
            "overflow_y": null,
            "overflow_x": null,
            "grid_auto_flow": null,
            "grid_area": null,
            "grid_template_columns": null,
            "flex": null,
            "_model_name": "LayoutModel",
            "justify_items": null,
            "grid_row": null,
            "max_height": null,
            "align_content": null,
            "visibility": null,
            "align_self": null,
            "height": null,
            "min_height": null,
            "padding": null,
            "grid_auto_rows": null,
            "grid_gap": null,
            "max_width": null,
            "order": null,
            "_view_module_version": "1.2.0",
            "grid_template_areas": null,
            "object_position": null,
            "object_fit": null,
            "grid_auto_columns": null,
            "margin": null,
            "display": null,
            "left": null
          }
        }
      }
    }
  },
  "cells": [
    {
      "cell_type": "markdown",
      "metadata": {
        "id": "lGypXS7uqFZp"
      },
      "source": [
        "## 7장 Support Vector machine\n",
        "\n",
        "### 비선형 SVM"
      ]
    },
    {
      "cell_type": "code",
      "metadata": {
        "scrolled": true,
        "id": "3rtPjsR-p38b"
      },
      "source": [
        "##5장에서 사용한 iris data 사용\n",
        "\n",
        "import seaborn as sns\n",
        "iris=sns.load_dataset('iris') # iris data 불러오기\n",
        "X=iris.drop('species',axis=1) # 특성변수만으로 구성된 X data Frame 생성\n",
        "y=iris['species']             # 분류의 목적 변수만으로 구성된 y data Frame생성\n",
        "\n",
        "from sklearn.preprocessing import LabelEncoder #범주형 변수 숫자로 치환하는 함수 호출\n",
        "classle=LabelEncoder()\n",
        "y=classle.fit_transform(iris['species'].values)#범주형 변수 숫자로 치환\n",
        "\n",
        "from sklearn.model_selection import train_test_split #train set과 test set으로 데이터 나누기 위한 함수 호출\n",
        "X_train,X_test,y_train,y_test=train_test_split(X,y, test_size=0.3, random_state=123, stratify=y)\n",
        "\n"
      ],
      "execution_count": null,
      "outputs": []
    },
    {
      "cell_type": "code",
      "metadata": {
        "id": "4B1CQZ-Cp384",
        "outputId": "d36e3418-7b38-4be2-e9dd-03a8193fe644",
        "colab": {
          "base_uri": "https://localhost:8080/",
          "height": 282
        }
      },
      "source": [
        "###############Kernel SVM의 이해 예제###########\n",
        "\n",
        "#평면상의 자료의 표현\n",
        "%matplotlib inline    \n",
        "import matplotlib.pyplot as plt\n",
        "from sklearn.datasets import make_circles\n",
        "X, y = make_circles(n_samples=100,noise=0.1,factor=0.1)\n",
        "plt.scatter(X[:,0],X[:,1],c=y,s=50)"
      ],
      "execution_count": null,
      "outputs": [
        {
          "output_type": "execute_result",
          "data": {
            "text/plain": [
              "<matplotlib.collections.PathCollection at 0x7fd923d9c630>"
            ]
          },
          "metadata": {
            "tags": []
          },
          "execution_count": 2
        },
        {
          "output_type": "display_data",
          "data": {
            "image/png": "[encoded data removed]",
            "text/plain": [
              "<Figure size 432x288 with 1 Axes>"
            ]
          },
          "metadata": {
            "tags": [],
            "needs_background": "light"
          }
        }
      ]
    },
    {
      "cell_type": "code",
      "metadata": {
        "id": "Hjs-7Fz_p388",
        "outputId": "8f42b6d7-7c82-433e-beb0-31075efef940",
        "colab": {
          "base_uri": "https://localhost:8080/",
          "height": 312,
          "referenced_widgets": [
            "811db03629da4a93bbcf09d63c925fb9",
            "dff6001a2b3d4a1da00bb00f1149afe1",
            "66c19536450d421583ccf80f0300a323",
            "89cfbf0b40604090a27fb849dda55051",
            "2564e2c192614294952ee30ae65bb7a3",
            "e0fe96aea4ff48c1a5f83493152f2d08",
            "8b632bfb8e25401795332136a253c817",
            "9ee0d6ffc2f1465e9f5e5f3880b435c2",
            "7cdf1d6bc76a41eeab82256c932e967b",
            "8999fc1392354d82929815c02b707861"
          ]
        }
      },
      "source": [
        "#Kernel SVM의 이해 예제\n",
        "#z축을 도입하여 자료를 표현\n",
        "import numpy as np\n",
        "r = np.exp(-(X ** 2).sum(1))\n",
        "from ipywidgets import interact, fixed\n",
        "from mpl_toolkits import mplot3d\n",
        "def plot_3D(elev=30, azim=30, X=X, y=y):\n",
        "    ax = plt.subplot(projection='3d')\n",
        "    ax.scatter3D(X[:, 0], X[:, 1], r, c=y, s=50, cmap='autumn')\n",
        "    ax.view_init(azim=50, elev=30)\n",
        "    ax.set_xlabel('x')\n",
        "    ax.set_ylabel('y')\n",
        "    ax.set_zlabel('z')\n",
        "interact(plot_3D, elev=[-90, 90], azip=(-180, 180),X=fixed(X), y=fixed(y));"
      ],
      "execution_count": null,
      "outputs": [
        {
          "output_type": "display_data",
          "data": {
            "application/vnd.jupyter.widget-view+json": {
              "model_id": "811db03629da4a93bbcf09d63c925fb9",
              "version_minor": 0,
              "version_major": 2
            },
            "text/plain": [
              "interactive(children=(Dropdown(description='elev', options=(-90, 90), value=-90), IntSlider(value=30, descript…"
            ]
          },
          "metadata": {
            "tags": []
          }
        }
      ]
    },
    {
      "cell_type": "code",
      "metadata": {
        "id": "y7LPh-Zgp38_"
      },
      "source": [
        "##############Kernel SVM 예제##########################\n",
        "from sklearn.svm import SVC #SVM함수의 호출\n",
        "ksvm=SVC(kernel='rbf',C=1.0,gamma=0.2,random_state=42)\n",
        "ksvm.fit(X_train,y_train)\n",
        "y_train_pred=ksvm.predict(X_train) # kernel SVM을 이용한 train set의 y 예측치 구하기\n",
        "y_test_pred=ksvm.predict(X_test) # kernel SVM을 이용한 #test set의 y예측치 구하기"
      ],
      "execution_count": null,
      "outputs": []
    },
    {
      "cell_type": "code",
      "metadata": {
        "id": "wwcoLf3bp39B",
        "outputId": "636119f4-bf92-4620-ca3d-b0471921d57c",
        "colab": {
          "base_uri": "https://localhost:8080/"
        }
      },
      "source": [
        "from sklearn import metrics\n",
        "print(metrics.accuracy_score(y_train,y_train_pred))  # train set의 accuracy ratio\n",
        "print(metrics.accuracy_score(y_test,y_test_pred))   # test set의 accuracy ratio"
      ],
      "execution_count": null,
      "outputs": [
        {
          "output_type": "stream",
          "text": [
            "0.9904761904761905\n",
            "0.9555555555555556\n"
          ],
          "name": "stdout"
        }
      ]
    },
    {
      "cell_type": "code",
      "metadata": {
        "id": "A-V7Gqeyp39H",
        "outputId": "75b92a0b-cc77-4727-8140-812f89c35206",
        "colab": {
          "base_uri": "https://localhost:8080/"
        }
      },
      "source": [
        "metrics.confusion_matrix(y_test,y_test_pred)   #confusion_matrix"
      ],
      "execution_count": null,
      "outputs": [
        {
          "output_type": "execute_result",
          "data": {
            "text/plain": [
              "array([[15,  0,  0],\n",
              "       [ 0, 13,  2],\n",
              "       [ 0,  0, 15]])"
            ]
          },
          "metadata": {
            "tags": []
          },
          "execution_count": 8
        }
      ]
    },
    {
      "cell_type": "code",
      "metadata": {
        "id": "dnkbB81NrlH-",
        "outputId": "eacae01f-bd64-4da4-9b52-798379adc00c",
        "colab": {
          "base_uri": "https://localhost:8080/"
        }
      },
      "source": [
        "print(ksvm.n_support_)"
      ],
      "execution_count": null,
      "outputs": [
        {
          "output_type": "stream",
          "text": [
            "[ 5 14 15]\n"
          ],
          "name": "stdout"
        }
      ]
    },
    {
      "cell_type": "code",
      "metadata": {
        "id": "9mmnNNsvr3FE"
      },
      "source": [
        ""
      ],
      "execution_count": null,
      "outputs": []
    }
  ]
}