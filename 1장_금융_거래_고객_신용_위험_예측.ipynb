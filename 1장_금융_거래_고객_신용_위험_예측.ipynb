{
  "nbformat": 4,
  "nbformat_minor": 0,
  "metadata": {
    "colab": {
      "name": "1장 금융 거래 고객 신용 위험 예측",
      "provenance": [],
      "collapsed_sections": [],
      "mount_file_id": "1Fson3BaYHO0d2kx4W5ianjg-6UySMAlX",
      "authorship_tag": "ABX9TyMoEjKyr0AvdybqNBdI5+dL",
      "include_colab_link": true
    },
    "kernelspec": {
      "name": "python3",
      "display_name": "Python 3"
    },
    "language_info": {
      "name": "python"
    }
  },
  "cells": [
    {
      "cell_type": "markdown",
      "metadata": {
        "id": "view-in-github",
        "colab_type": "text"
      },
      "source": [
        "<a href=\"https://colab.research.google.com/github/minnnnji/Machine_Learning/blob/master/1%EC%9E%A5_%EA%B8%88%EC%9C%B5_%EA%B1%B0%EB%9E%98_%EA%B3%A0%EA%B0%9D_%EC%8B%A0%EC%9A%A9_%EC%9C%84%ED%97%98_%EC%98%88%EC%B8%A1.ipynb\" target=\"_parent\"><img src=\"https://colab.research.google.com/assets/colab-badge.svg\" alt=\"Open In Colab\"/></a>"
      ]
    },
    {
      "cell_type": "markdown",
      "metadata": {
        "id": "kr-X2Gv4EF9C"
      },
      "source": [
        "## 1장 금융 거래 고객 신용 위험 예측 "
      ]
    },
    {
      "cell_type": "markdown",
      "metadata": {
        "id": "qN_s5TyVFMEb"
      },
      "source": [
        "###  **프로젝트 개요**\n",
        "\n",
        "금융 거래 데이터는 해당 <b>데이터에 속한 사람들의 소비 패턴을 판단할 수 있고 나아가 생활 패턴까지 유추</b>할 수 있게 합니다. 이러한 정보는 마케터나 금융기관에서 상품을 적절하게 추천할 수 있도록 도움을 줄 수 있습니다. 특히나 고객의 신용 위험 정도는 금융 상품을 추천하거나, 금융 활동을 제한하는 데 있어서 중요한 정보로 사용될 수 있습니다. \n",
        "\n",
        "<br>\n",
        "\n",
        "이번 프로젝트에서는 독일 금융 거래 고객 데이터를 바탕으로 금융 고객의 신용 위험을 예측해보는 **분류 모델**을 구현합니다. 데이터 분석 및 분류 모델을 바탕으로 새로운 고객의 데이터를 받았을 때, 신용 위험 여부를 예측할 수 있으며, 어떠한 특성 데이터가 위험 여부를 예측하는 데 큰 영향을 미쳤는지 또한 알 수 있습니다."
      ]
    },
    {
      "cell_type": "markdown",
      "metadata": {
        "id": "VpiaJAmWFAeu"
      },
      "source": [
        "### **프로젝트 목표**\n",
        "- 금융 거래 데이터 분석을 통하여 고객 신용 위험을 예측하는 분류 모델 수행\n",
        "- 고객 신용 위험에 영향을 미치는 특성 데이터들에 대한 데이터 분석 수행\n",
        "\n",
        "<br>\n",
        "\n",
        "#### **프로젝트를 통해 아래의 두 가지에 대한 답변 할 수 있습니다.**\n",
        "1. \\[시각화] 20 - 30대의 위험도와 40 - 50대의 위험도 차이\n",
        "2. Test Data를 활용하여 새로운 고객의 위험도를 예측"
      ]
    },
    {
      "cell_type": "markdown",
      "metadata": {
        "id": "M4uha5KiFHAu"
      },
      "source": [
        "### **데이터 출처 및 정보**\n",
        "\n",
        "https://archive.ics.uci.edu/ml/datasets/statlog+(german+credit+data)\n",
        "\n",
        "- `credit_train.csv`\n",
        "\n",
        "|column 명| 설명 | 비고 |\n",
        "|:--|:--|:--|\n",
        "|Sex|성별|\n",
        "|Age|나이|\n",
        "|Job|직업|0 - 실업자/미숙련자 - 비거주자 (unemployed/ unskilled - non-resident)<br>1 - 미숙련자 - 주민 (unskilled - resident)<br> 2 - 숙련된 직원 (skilled employee) <br> 3 - 경영자/자영업자/유자격자/공무원 (management/ self-employed/highly qualified employee/ officer)|\n",
        "|Housing| 주택의 소유권 상태 |\n",
        "|Saving accounts|예금 계좌|\n",
        "|Checking account|사용하는 계좌|\n",
        "|Credit amount|대출자가 대출하기로 약속한 최대 금액|\n",
        "|Duration|기간|\n",
        "|Purpose|목적|\n",
        "|Risk|위험여부|\n"
      ]
    },
    {
      "cell_type": "markdown",
      "metadata": {
        "id": "YKVZgGkVFESy"
      },
      "source": [
        "### **프로젝트 목차**\n",
        "1. **데이터 읽기:** 금융 데이터를 불러오고 Dataframe 구조를 확인\n",
        "\n",
        "2. **데이터 정제:** 비어 있는 데이터 또는 쓸모 없는 데이터를 삭제\n",
        "\n",
        "3. **데이터 시각화:** 변수 시각화를 통하여 분포 파악\n",
        "\n",
        "4. **데이터 전처리:** 머신러닝 모델에 필요한 입력값 형식으로 데이터 처리\n",
        "\n",
        "5. **머신러닝 모델 학습:** 분류 모델을 사용하여 학습 수행\n",
        "\n",
        "6. **평가 및 예측:** 학습된 모델을 바탕으로 평가 및 예측 수행\n",
        "\n",
        "\n",
        "#### 위 과정을 **주석 + 가이드 document** 를 참고하여 순서대로 진행하시면됩니다.\n",
        "\n",
        "\n"
      ]
    },
    {
      "cell_type": "markdown",
      "metadata": {
        "id": "qj9wBmjVegNR"
      },
      "source": [
        "#### **1. 데이터 읽기** \n",
        "\n",
        "모듈을 임포트하고, csv 형태의 데이터를 dataframe 형태로 저장합니다. \n"
      ]
    },
    {
      "cell_type": "markdown",
      "metadata": {
        "id": "zHSPW1MxiNPZ"
      },
      "source": [
        "##### **1.1 모듈 불러오기**"
      ]
    },
    {
      "cell_type": "code",
      "metadata": {
        "id": "nW-PjQBQef5m"
      },
      "source": [
        "# < Todo > 각 주석에 맞는 모듈을 불러오세요\n",
        "\n",
        "# pandas \n",
        "\n",
        "\n",
        "# numpy\n",
        "\n",
        "\n",
        "# matplotlib.pyplot \n",
        "\n",
        "\n",
        "# seaborn\n"
      ],
      "execution_count": null,
      "outputs": []
    },
    {
      "cell_type": "markdown",
      "metadata": {
        "id": "YAykinm4jlbI"
      },
      "source": [
        "##### **1.2. 데이터 저장하기**\n"
      ]
    },
    {
      "cell_type": "code",
      "metadata": {
        "id": "KwTTvtMBef0q"
      },
      "source": [
        "# < Todo > 'credit_train.csv' 를 data에 저장하세요.\n",
        "data = None\n",
        "\n",
        "\n",
        "# 데이터가 형태(어떤 데이터 형인지, 컬럼의 개수, index의 여부 등)확인하기 위해 데이터를 불러오면 가장 먼저 확인하도록 합니다. \n",
        "data.head()"
      ],
      "execution_count": null,
      "outputs": []
    },
    {
      "cell_type": "markdown",
      "metadata": {
        "id": "HiauqacIppmT"
      },
      "source": [
        "눈으로 보기에는 int(정수)형으로 보이지만 문자의 형태일 때가 존재하기 때문에 데이터의 정보를 확인하는 과정이 필요합니다. "
      ]
    },
    {
      "cell_type": "markdown",
      "metadata": {
        "id": "znAuJU42aHTq"
      },
      "source": [
        "##### **1.3. 데이터의 정보 확인**"
      ]
    },
    {
      "cell_type": "code",
      "metadata": {
        "id": "zy-SZn9UovHg"
      },
      "source": [
        "# < Todo > 데이터의 정보를 출력하세요.\n"
      ],
      "execution_count": null,
      "outputs": []
    },
    {
      "cell_type": "markdown",
      "metadata": {
        "id": "LgaeB4JEo07g"
      },
      "source": [
        "숫자로 보이는 모든 컬럼이 int형이기 때문에 따로 전처리할 필요가 없습니다. "
      ]
    },
    {
      "cell_type": "markdown",
      "metadata": {
        "id": "AHP5ErQkarPf"
      },
      "source": [
        "##### **1.4. 데이터의 수치형 정보 확인**"
      ]
    },
    {
      "cell_type": "code",
      "metadata": {
        "id": "hPUnQculXN3w"
      },
      "source": [
        "# < Todo > 수치형 (숫자로 된 데이터) 정보를 요약하여 출력하세요. \n"
      ],
      "execution_count": null,
      "outputs": []
    },
    {
      "cell_type": "markdown",
      "metadata": {
        "id": "W-LdCZDbXx1-"
      },
      "source": [
        "#### **2. 데이터 정제**\n",
        "\n",
        "데이터를 다루게 되면 **데이터 가공이 필수적**입니다. 그 이유는 가장 기본적인 원인인 **결측값**입니다. <br> 결측치가 생기는 이유로는 다음과 같이 3가지가 있습니다.<br>\n",
        "\n",
        "\\<1번 **완전 무작위 결측**>\n",
        "\n",
        "- 데이터를 입력하는 사람이 깜빡하고 입력을 안했다든지 전산오류로 누락하는 경우\n",
        "\n",
        "\\<2번 **무작위 결측**>\n",
        "\n",
        "- 남성은 우울증 설문 조사에 기입 할 확률이 적지만 우울함의 정도와는 상관이 없는 경우\n",
        "\n",
        "\\<3번 **비 무작위 결측**>\n",
        "\n",
        "- 남성이 우울증 설문 조사에 기입하는게 우울증의 정도와 관련이 있는 경우 \n",
        "<br>\n"
      ]
    },
    {
      "cell_type": "markdown",
      "metadata": {
        "id": "xZZslC9XeKF4"
      },
      "source": [
        "머신러닝은 학습시 데이터가 얼마나 잘 가공되어있느냐에 따라 성능에 차이가 발생합니다. <br>\n",
        " 또한 대부분의 기계학습 모델이 누락된 데이터가 존재할 때, 제대로 역할을 하지 못합니다. <br>\n",
        " 따라서 누락된 데이터를 **제거하거나 채워주는 과정**이 필요하고 이 과정을 **데이터 정제**라고 합니다. <br>\n",
        "\n",
        "\n",
        "ㅤ**< 순서 예시 >**\n",
        "1. 데이터에 **결측값**이 있는지 확인 \n",
        "\n",
        "2. 결측치가 있는 컬럼을 **지울지** 혹은 결측값을 **채울지** 결정 \n",
        "  - 결측값이 데이터가 가지고 있는 값보다 많다면 `del` or `drop` 사용해서 컬럼 or 행 삭제\n",
        "  - 그런게 아니라면 `fillna` or `SimpleImputer`를 사용해서 채우기"
      ]
    },
    {
      "cell_type": "markdown",
      "metadata": {
        "id": "-8VDAntLZlA6"
      },
      "source": [
        "##### **2.1. 컬럼별 결측 값 확인**\n",
        "  -  `[데이터프레임 변수명].isnull().sum()`\n",
        "\n",
        "  앞에서 이미 `info()`를 사용해서 이미 결측치가 있는 것을 확인할 수 있지만 위 코드를 사용하면 정확하게 어떤 컬럼에 몇 개의 결측치 있는지 알 수 있습니다."
      ]
    },
    {
      "cell_type": "code",
      "metadata": {
        "id": "E6v_pfiuXw2s"
      },
      "source": [
        "# < Todo > 결측값 정보를 출력하세요.\n"
      ],
      "execution_count": null,
      "outputs": []
    },
    {
      "cell_type": "markdown",
      "metadata": {
        "id": "ERRdMeiycxVI"
      },
      "source": [
        "ㅤ 결측치가 **'Saving accounts', 'Checking account'** 에 있다는 것을 알 수 있습니다. <br><br>\n",
        "ㅤ 데이터 1000개 중 결측값은 각각 183와 394개로 데이터 개수에 비해 컬럼이나 행을 삭제하지 않고 결측치를 **다른 값으로 대체**하여 보겠습니다. <br>\n",
        "ㅤ 그 전에 결측치가 있는 컬럼은 어떤 데이터 값으로 채워져있는지 확인해보겠습니다."
      ]
    },
    {
      "cell_type": "markdown",
      "metadata": {
        "id": "JHM-pFqecQVG"
      },
      "source": [
        "##### **2.2. 결측치 제거**"
      ]
    },
    {
      "cell_type": "code",
      "metadata": {
        "id": "Grci57jlcGG4"
      },
      "source": [
        "# < Todo > Saving accounts와 Checking account 컬럼의 결측치를 'Others'로 대체하세요.\n",
        "data['Saving accounts'] = None\n",
        "data['Checking account'] = None"
      ],
      "execution_count": null,
      "outputs": []
    },
    {
      "cell_type": "markdown",
      "metadata": {
        "id": "79z-hscE0Jtr"
      },
      "source": [
        "결측값을 다 채웠으나 확인 차 한번 더 컬럼별 결측값의 개수를 출력해보겠습니다."
      ]
    },
    {
      "cell_type": "code",
      "metadata": {
        "id": "5q2VYK3V0Hxn"
      },
      "source": [
        "# 결측값 정보를 출력합니다.\n",
        "data.isnull().sum()"
      ],
      "execution_count": null,
      "outputs": []
    },
    {
      "cell_type": "markdown",
      "metadata": {
        "id": "sHdiediB1n3n"
      },
      "source": [
        "#### **3. 데이터 시각화** \n",
        "histplot을 사용하면 어떠한 구간에서의 데이터의 개수를 구할 수 있습니다. 여기서 어떠한 구간은 x축이 의미합니다. <br>\n",
        "\n",
        "이를 사용하여 \"x축이 나이라면 나이별 금융 거래 발생 수\" 를 알 수 있습니다. <br> \n",
        "\n",
        "여기에 사용하게될 hue는 구분이라고 생각하면 됩니다. \n",
        "위 예시를 사용하게 되면 조건없이 금융 거래가 발생한 수가 되는데 hue를 사용하게 되면 **나이별 목적, 직업, 성별, 위험도의 개수**를 알 수 있습니다. "
      ]
    },
    {
      "cell_type": "markdown",
      "metadata": {
        "id": "BU0SwOAyB5rK"
      },
      "source": [
        "##### **3.1.1. 20-30대의 신용 위험도**"
      ]
    },
    {
      "cell_type": "code",
      "metadata": {
        "id": "qtcf_rus3gT_"
      },
      "source": [
        "plt.figure(figsize=(12,6))\n",
        "\n",
        "# < Todo > tmp_young에 나이가 40~50사이인 데이터를 저장하세요.\n",
        "tmp_young = None\n",
        "\n",
        "# < Todo > seaborn의 histplot을 아래의 조건에 맞춰 40~50대의 위험도를 출력하세요.\n",
        "\n",
        "# x축 = 나이\n",
        "# 구분 = 위험도 \n",
        "\n",
        "\n",
        "\n",
        "plt.show()"
      ],
      "execution_count": null,
      "outputs": []
    },
    {
      "cell_type": "code",
      "metadata": {
        "id": "6OVVb6zh6DRm"
      },
      "source": [
        "# 전체 20-30대의 수\n",
        "total_num = len(tmp)\n",
        "\n",
        "# 20-30대 중 위험도가 bad인 사람의 수 \n",
        "num_bad = len(tmp[tmp['Risk'] == 'bad'])\n",
        "\n",
        "# 20-30대 중 위험도가 good인 사람의 수 \n",
        "num_good = len(tmp[tmp['Risk'] == 'good'])\n",
        "\n",
        "# 총 정리\n",
        "print('20-30대는 {}명 이다. \\n그 중 신용도가 Bad인 사람은 {}명으로 bad percent: {:.2f}%이고 \\ngood인 사람은 {}명으로 Good percent: {:.2f}%이다'.format(total_num, num_bad, num_bad/total_num*100, num_good, num_good/total_num*100))"
      ],
      "execution_count": null,
      "outputs": []
    },
    {
      "cell_type": "markdown",
      "metadata": {
        "id": "cw8N_cI-CGkh"
      },
      "source": [
        "##### **3.1.2. 40-50대의 신용 위험도**"
      ]
    },
    {
      "cell_type": "code",
      "metadata": {
        "id": "BJOjPcEY9Noz"
      },
      "source": [
        "plt.figure(figsize=(12,6))\n",
        "\n",
        "# < Todo > tmp_old에 나이가 40~50사이인 데이터를 저장하세요.\n",
        "tmp_old = None\n",
        "\n",
        "\n",
        "# < Todo > seaborn의 histplot을 아래의 조건에 맞춰 40~50대의 위험도를 출력하세요.\n",
        "\n",
        "# x축 = 나이\n",
        "# 구분 = 위험도 \n",
        "\n",
        "\n",
        "plt.show()"
      ],
      "execution_count": null,
      "outputs": []
    },
    {
      "cell_type": "code",
      "metadata": {
        "id": "H-mYIddg41i2"
      },
      "source": [
        "# 전체 40-50대의 수\n",
        "total_num = len(tmp_old)\n",
        "\n",
        "# 40-50대 중 위험도가 bad인 사람의 수 \n",
        "num_bad = len(tmp_old[tmp_old['Risk'] == 'bad'])\n",
        "\n",
        "# 40-50대 중 위험도가 good인 사람의 수 \n",
        "num_good = len(tmp_old[tmp['Risk'] == 'good'])\n",
        "\n",
        "# 총 정리\n",
        "print('40-50대는 {}명 이다. \\n그 중 신용도가 Bad인 사람은 {}명으로 bad percent: {:.2f}%이고 \\ngood인 사람은 {}명으로 Good percent: {:.2f}%이다'.format(total_num, num_bad, num_bad/total_num*100, num_good, num_good/total_num*100))"
      ],
      "execution_count": null,
      "outputs": []
    },
    {
      "cell_type": "markdown",
      "metadata": {
        "id": "mSBmWu2YT3M3"
      },
      "source": [
        "#### **4. 데이터 전처리** \n",
        "\n",
        "신용 예측을 수행하기 위해서 주어진 금융 거래 데이터에 대해서 **'Risk' 컬럼의 값이 good인지 bad인지 분류**하는 모델을 사용할 것입니다. <br>\n",
        "분류 모델의 필요한 입력 데이터를 준비 하기위해서 다음과 같은 전처리를 수행하겠습니다.<br><br>\n",
        "\n",
        "\n",
        "머신러닝에 데이터 학습을 시키기 위해서는 **숫자만으로 이루어진 데이터**로 만들어야 합니다. <br>\n",
        "따라서 아래의 2가지 방법 중 1가지를 선택해 **object형을 숫자형으로 변환**시켜줘야 합니다. <br>\n",
        "\n",
        "1. **Object 자료형 -> 숫자 자료형 변환하기**\n",
        "  - one-hot encoding (`pd.get_dummies()`) : 이번 실습에서 사용할 것\n",
        "  \n",
        "  - label encoder (가이드 Document 참고)"
      ]
    },
    {
      "cell_type": "code",
      "metadata": {
        "id": "nVHMLkr3R-kv"
      },
      "source": [
        "# 전처리 전 데이터를 다시 확인합니다. \n",
        "data.info()"
      ],
      "execution_count": null,
      "outputs": []
    },
    {
      "cell_type": "markdown",
      "metadata": {
        "id": "3yCg8hz2w1ty"
      },
      "source": [
        "##### **4.1. Risk 컬럼 0, 1로 바꿔주기**\n",
        "\n",
        "one-hot encoding을 사용하게 될 경우 Risk 컬럼이 두 개의 컬럼으로 나눠지게 됩니다. <br>\n",
        "그렇게 되면 y 값으로 'Risk' 컬럼을 사용하지 못하기 때문에 one-hot encoding 전 'Risk' 컬럼만 good -> 0 으로 bad -> 1로 대체 해보도록 하겠습니다. "
      ]
    },
    {
      "cell_type": "code",
      "metadata": {
        "id": "5XZBKfpiuvty"
      },
      "source": [
        "# < Todo > 'Risk' 컬럼의 데이터를 good -> 0, bad -> 1로 대체하세요.\n"
      ],
      "execution_count": null,
      "outputs": []
    },
    {
      "cell_type": "markdown",
      "metadata": {
        "id": "dAjUkq5tvgvC"
      },
      "source": [
        "##### **4.2.1. pandas의 `get_dummies()`를 사용하여 수치형으로 바꾸기**\n",
        "- `pd.get_dummies([데이터프레임변수명])` <br>\n",
        "  : 수치형이 아닌 모든 데이터를 가변수(dummy variable)로 만들어주는 것인데, 이는 0과 1로 이루어진 열을 나타냅니다."
      ]
    },
    {
      "cell_type": "code",
      "metadata": {
        "id": "hgCrns9ceCR9"
      },
      "source": [
        "# < Todo > pd.get_dummies()를 사용해서 Object형을 수치형으로 대체하세요.\n",
        "\n",
        "\n",
        "\n",
        "# 결과를 확인합니다.\n",
        "data.head()"
      ],
      "execution_count": null,
      "outputs": []
    },
    {
      "cell_type": "markdown",
      "metadata": {
        "id": "yp64PyZlu648"
      },
      "source": [
        "##### **4.2.2. sklearn의 `LabelEncoder()`를 사용하여 수치형으로 바꾸기** \n",
        "이번 실습에서는 `pd.get_dummies()`를 사용합니다. `LabelEncoder()`의 사용법은 가이드 및 2장 실습에서 확인할 수 있습니다.  "
      ]
    },
    {
      "cell_type": "markdown",
      "metadata": {
        "id": "X93isTuIcG5W"
      },
      "source": [
        "#### **5. 머신러닝 모델 학습**\n",
        "\n",
        "전처리된 데이터를 X(독립변수)와 y(종속변수)로 나눠 분류 모델 학습을 수행하고 학습 결과를 출력해봅니다. \n",
        "\n",
        "- 사용할 모델들\n",
        "  - LogisticRegression \n",
        "  - SVM \n",
        "\n",
        "가이드를 참고하면 다양한 분류 모델을 확인할 수 있습니다."
      ]
    },
    {
      "cell_type": "markdown",
      "metadata": {
        "id": "zem4RsDtimGu"
      },
      "source": [
        "##### **5.1. 데이터 X, y로 분할**\n",
        "- `x_train`: 'Unnamed: 0', 'Risk' 컬럼 제외한 컬럼들\n",
        "- `y_train`: 'Risk' 컬럼\n",
        "\n",
        "Unnamed: 0 컬럼은 데이터와 무관하기 때문에 x_train을 만들 때 제거해줍니다. "
      ]
    },
    {
      "cell_type": "code",
      "metadata": {
        "id": "Bb2sUumZbPDT"
      },
      "source": [
        "# < Todo > 'Risk', 'Unnamed: 0' 을 제외한 dataFrame을 x_train에 저장하세요.\n",
        "x_train = None\n",
        "\n",
        "\n",
        "# < Todo > 'Risk' 컬럼을 y_train에 저장하세요.\n",
        "y_train = None\n",
        "\n",
        "\n",
        "# x_train 데이터를 확인합니다. \n",
        "x_train.head()"
      ],
      "execution_count": null,
      "outputs": []
    },
    {
      "cell_type": "code",
      "metadata": {
        "id": "uYij6gGnnUQR"
      },
      "source": [
        "# y_train 데이터를 확인합니다. \n",
        "y_train.head()"
      ],
      "execution_count": null,
      "outputs": []
    },
    {
      "cell_type": "markdown",
      "metadata": {
        "id": "u0edbsV0kUb_"
      },
      "source": [
        "##### **5.2.1. LogisticRegression을 사용한 데이터 학습**  \n",
        "머신러닝 모델 중 하나인 **로지스틱 회귀** 모델을 불러와 데이터를 학습시킵니다."
      ]
    },
    {
      "cell_type": "code",
      "metadata": {
        "id": "kga3XkDabNHv"
      },
      "source": [
        "# < Todo > 로지스틱 분류기 모델을 임포트 한 뒤 logit에 저장하세요. \n",
        "from sklearn.linear_model import LogisticRegression\n",
        "\n",
        "\n",
        "# max_iter을 조절하면서 score을 올려보세요.\n",
        "logit = None\n",
        "\n",
        "\n",
        "# < Todo > fit 함수를 사용하여 데이터를 학습시키세요.\n",
        "\n",
        "\n",
        "\n",
        "# score 함수를 사용하여 x_train 데이터로 예측한 값과 y_train을 비교해 모델의 성능을 출력합니다.\n",
        "print(logit.score(x_train, y_train))"
      ],
      "execution_count": null,
      "outputs": []
    },
    {
      "cell_type": "markdown",
      "metadata": {
        "id": "dJ9oq_6skpbS"
      },
      "source": [
        "##### **5.2.2. SVM을 사용한 데이터 학습**\n",
        "머신러닝 모델 중 하나인 **SVM** 모델을 불러와 데이터를 학습시킵니다."
      ]
    },
    {
      "cell_type": "code",
      "metadata": {
        "id": "wMqaSKs0ko8p"
      },
      "source": [
        "# < Todo > svm 모델을 임포트 한 뒤 svm에 저장하세요.\n",
        "from sklearn.svm import SVC\n",
        "\n",
        "\n",
        "svm = None\n",
        "\n",
        "\n",
        "# < Todo > fit 함수를 사용하여 데이터를 학습시키세요.\n",
        "\n",
        "\n",
        "\n",
        "# score 함수를 사용하여 x_train 데이터로 예측한 값과 y_train을 비교해 모델의 성능을 출력합니다.\n",
        "print(svm.score(x_train, y_train))"
      ],
      "execution_count": null,
      "outputs": []
    },
    {
      "cell_type": "markdown",
      "metadata": {
        "id": "EjzbhALLcOf5"
      },
      "source": [
        "#### **6. 평가 및 예측**"
      ]
    },
    {
      "cell_type": "markdown",
      "metadata": {
        "id": "gtQi6St-l0vz"
      },
      "source": [
        "##### **6.1.1. 평가를 위한 Test Data 가져오기**\n"
      ]
    },
    {
      "cell_type": "code",
      "metadata": {
        "id": "4M46aTHhpK58"
      },
      "source": [
        "# < Todo > test에 'credit_test.csv' 파일을 저장하세요. \n",
        "test = None\n",
        "\n",
        "\n",
        "# 불러온 결과를 확인합니다.\n",
        "test.head()"
      ],
      "execution_count": null,
      "outputs": []
    },
    {
      "cell_type": "markdown",
      "metadata": {
        "id": "SNEc22AotPLm"
      },
      "source": [
        "test 데이터도 예측하기 위해서는 정형 데이터로 만들어야합니다.<br>\n",
        "그러기 위해 train 데이터와 마찬가지로 결측치를 채우고 Object형 데이터를 수치형 데이터로 바꿔주도록 하겠습니다. <br>\n",
        "**< 순서 >**\n",
        "  1. 결측치 채우기\n",
        "  2. Object형 데이터 -> 수치형 데이터\n",
        "  3. 필요없는 열 (`'Unnamed: 0'`)을 삭제\n",
        "\n"
      ]
    },
    {
      "cell_type": "markdown",
      "metadata": {
        "id": "dYU7gVl0ThBd"
      },
      "source": [
        "##### **6.1.2. Test Data 결측치 채우기**"
      ]
    },
    {
      "cell_type": "code",
      "metadata": {
        "id": "DynqT8vepRPk"
      },
      "source": [
        "# < Todo > test 데이터에 결측치가 존재하는지 확인하세요.\n",
        "test.isnull().sum()"
      ],
      "execution_count": null,
      "outputs": []
    },
    {
      "cell_type": "markdown",
      "metadata": {
        "id": "1LbG25JSTiKG"
      },
      "source": [
        "##### **6.1.3. Test Data Object형 수치형 데이터로 대체하기**"
      ]
    },
    {
      "cell_type": "code",
      "metadata": {
        "id": "B6GHvDy8kkJU"
      },
      "source": [
        "# < Todo > Object형 데이터를 수치형 데이터로 대체하세요. \n",
        "test = None\n",
        "\n",
        "\n",
        "# 대체한 결과를 확인합니다.\n",
        "test.head()"
      ],
      "execution_count": null,
      "outputs": []
    },
    {
      "cell_type": "markdown",
      "metadata": {
        "id": "Dwi8WUsQTjDg"
      },
      "source": [
        "##### **6.1.4. Test Data 필요없는 컬럼 제거하기**"
      ]
    },
    {
      "cell_type": "code",
      "metadata": {
        "id": "KnkoMTu9kxyG"
      },
      "source": [
        "# < Todo > 'Unnamed: 0'를 제외한 데이터 프레임을 x_test에 저장하세요. \n",
        "x_test = None\n",
        "\n",
        "\n",
        "# 결과를 확인합니다.\n",
        "x_test.head()"
      ],
      "execution_count": null,
      "outputs": []
    },
    {
      "cell_type": "markdown",
      "metadata": {
        "id": "kM23XN1OTkXV"
      },
      "source": [
        "##### **6.2. 각 모델로 Test Data의 결과 예측하기**"
      ]
    },
    {
      "cell_type": "code",
      "metadata": {
        "id": "DIKnpKm5nuds"
      },
      "source": [
        "# < Todo > Logistic Regression 모델을 사용하여 예측한 결과를 logit_result에 저장하세요.\n",
        "logit_result = None\n",
        "\n",
        "\n",
        "# < Todo > SVM 모델을 사용하여 예측한 결과를 svm_result에 저장하세요.\n",
        "svm_result = None"
      ],
      "execution_count": null,
      "outputs": []
    },
    {
      "cell_type": "markdown",
      "metadata": {
        "id": "qmsKt2anTlEd"
      },
      "source": [
        "##### **6.3.1 제출을 위해 submission 파일 불러오기** "
      ]
    },
    {
      "cell_type": "code",
      "metadata": {
        "id": "j3iRv6Z4gexf"
      },
      "source": [
        "# < Todo > submission에 'submission.csv' 파일을 저장하세요. \n"
      ],
      "execution_count": null,
      "outputs": []
    },
    {
      "cell_type": "code",
      "metadata": {
        "id": "PpzjErs6oyCx"
      },
      "source": [
        "# < Todo > logit_result와 svm_result 중 한 가지를 골라 submission label 컬럼에 저장하세요.\n",
        "\n",
        "\n",
        "\n",
        "# 결과를 확인합니다. \n",
        "submission"
      ],
      "execution_count": null,
      "outputs": []
    },
    {
      "cell_type": "markdown",
      "metadata": {
        "id": "Qq2nv0CPTlfu"
      },
      "source": [
        "##### **6.3.2 Export하기 위해 DataFrame을 csv 파일로 저장하기**\n"
      ]
    },
    {
      "cell_type": "code",
      "metadata": {
        "id": "ynhVqKXTpclO"
      },
      "source": [
        "# 데이터 프레임을 'submission.csv'라는 이름을 가진 csv파일로 저장합니다. \n",
        "submission.to_csv('submission.csv', index = None, header = True)"
      ],
      "execution_count": null,
      "outputs": []
    }
  ]
}