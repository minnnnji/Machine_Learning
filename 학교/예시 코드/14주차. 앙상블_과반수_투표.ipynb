{
  "nbformat": 4,
  "nbformat_minor": 0,
  "metadata": {
    "colab": {
      "name": "앙상블_과반수 투표.ipynb",
      "provenance": [],
      "collapsed_sections": []
    },
    "kernelspec": {
      "name": "python3",
      "display_name": "Python 3"
    }
  },
  "cells": [
    {
      "cell_type": "markdown",
      "metadata": {
        "id": "h3qyjrY9zbdR"
      },
      "source": [
        "### 1-1. 데이터 로더"
      ]
    },
    {
      "cell_type": "code",
      "metadata": {
        "colab": {
          "base_uri": "https://localhost:8080/",
          "height": 217
        },
        "id": "Jsb1d_77uRYK",
        "outputId": "02e5424f-4e95-4508-94e7-11edebdad8ce"
      },
      "source": [
        "import pandas as pd\n",
        "\n",
        "bank_df = pd.read_csv('UniversalBank.csv')\n",
        "bank_df.head()"
      ],
      "execution_count": null,
      "outputs": [
        {
          "output_type": "execute_result",
          "data": {
            "text/html": [
              "<div>\n",
              "<style scoped>\n",
              "    .dataframe tbody tr th:only-of-type {\n",
              "        vertical-align: middle;\n",
              "    }\n",
              "\n",
              "    .dataframe tbody tr th {\n",
              "        vertical-align: top;\n",
              "    }\n",
              "\n",
              "    .dataframe thead th {\n",
              "        text-align: right;\n",
              "    }\n",
              "</style>\n",
              "<table border=\"1\" class=\"dataframe\">\n",
              "  <thead>\n",
              "    <tr style=\"text-align: right;\">\n",
              "      <th></th>\n",
              "      <th>ID</th>\n",
              "      <th>Age</th>\n",
              "      <th>Experience</th>\n",
              "      <th>Income</th>\n",
              "      <th>ZIPCode</th>\n",
              "      <th>Family</th>\n",
              "      <th>CCAvg</th>\n",
              "      <th>Education</th>\n",
              "      <th>Mortgage</th>\n",
              "      <th>PersonalLoan</th>\n",
              "      <th>SecuritiesAccount</th>\n",
              "      <th>CDAccount</th>\n",
              "      <th>Online</th>\n",
              "      <th>CreditCard</th>\n",
              "    </tr>\n",
              "  </thead>\n",
              "  <tbody>\n",
              "    <tr>\n",
              "      <th>0</th>\n",
              "      <td>1</td>\n",
              "      <td>25</td>\n",
              "      <td>1</td>\n",
              "      <td>49</td>\n",
              "      <td>91107</td>\n",
              "      <td>4</td>\n",
              "      <td>1.6</td>\n",
              "      <td>1</td>\n",
              "      <td>0</td>\n",
              "      <td>0</td>\n",
              "      <td>1</td>\n",
              "      <td>0</td>\n",
              "      <td>0</td>\n",
              "      <td>0</td>\n",
              "    </tr>\n",
              "    <tr>\n",
              "      <th>1</th>\n",
              "      <td>2</td>\n",
              "      <td>45</td>\n",
              "      <td>19</td>\n",
              "      <td>34</td>\n",
              "      <td>90089</td>\n",
              "      <td>3</td>\n",
              "      <td>1.5</td>\n",
              "      <td>1</td>\n",
              "      <td>0</td>\n",
              "      <td>0</td>\n",
              "      <td>1</td>\n",
              "      <td>0</td>\n",
              "      <td>0</td>\n",
              "      <td>0</td>\n",
              "    </tr>\n",
              "    <tr>\n",
              "      <th>2</th>\n",
              "      <td>3</td>\n",
              "      <td>39</td>\n",
              "      <td>15</td>\n",
              "      <td>11</td>\n",
              "      <td>94720</td>\n",
              "      <td>1</td>\n",
              "      <td>1.0</td>\n",
              "      <td>1</td>\n",
              "      <td>0</td>\n",
              "      <td>0</td>\n",
              "      <td>0</td>\n",
              "      <td>0</td>\n",
              "      <td>0</td>\n",
              "      <td>0</td>\n",
              "    </tr>\n",
              "    <tr>\n",
              "      <th>3</th>\n",
              "      <td>4</td>\n",
              "      <td>35</td>\n",
              "      <td>9</td>\n",
              "      <td>100</td>\n",
              "      <td>94112</td>\n",
              "      <td>1</td>\n",
              "      <td>2.7</td>\n",
              "      <td>2</td>\n",
              "      <td>0</td>\n",
              "      <td>0</td>\n",
              "      <td>0</td>\n",
              "      <td>0</td>\n",
              "      <td>0</td>\n",
              "      <td>0</td>\n",
              "    </tr>\n",
              "    <tr>\n",
              "      <th>4</th>\n",
              "      <td>5</td>\n",
              "      <td>35</td>\n",
              "      <td>8</td>\n",
              "      <td>45</td>\n",
              "      <td>91330</td>\n",
              "      <td>4</td>\n",
              "      <td>1.0</td>\n",
              "      <td>2</td>\n",
              "      <td>0</td>\n",
              "      <td>0</td>\n",
              "      <td>0</td>\n",
              "      <td>0</td>\n",
              "      <td>0</td>\n",
              "      <td>1</td>\n",
              "    </tr>\n",
              "  </tbody>\n",
              "</table>\n",
              "</div>"
            ],
            "text/plain": [
              "   ID  Age  Experience  ...  CDAccount  Online  CreditCard\n",
              "0   1   25           1  ...          0       0           0\n",
              "1   2   45          19  ...          0       0           0\n",
              "2   3   39          15  ...          0       0           0\n",
              "3   4   35           9  ...          0       0           0\n",
              "4   5   35           8  ...          0       0           1\n",
              "\n",
              "[5 rows x 14 columns]"
            ]
          },
          "metadata": {
            "tags": []
          },
          "execution_count": 2
        }
      ]
    },
    {
      "cell_type": "markdown",
      "metadata": {
        "id": "JAUDE9pLznRL"
      },
      "source": [
        "### 1-2. 학습에 사용할 특성변수 선택"
      ]
    },
    {
      "cell_type": "code",
      "metadata": {
        "id": "_xo4A36Rug3o"
      },
      "source": [
        "X = bank_df.drop (['ID','ZIPCode','PersonalLoan'], axis=1)\n",
        "y = bank_df['PersonalLoan']\n"
      ],
      "execution_count": null,
      "outputs": []
    },
    {
      "cell_type": "markdown",
      "metadata": {
        "id": "zcimeD2rzs-l"
      },
      "source": [
        "### 2. 데이터 분할"
      ]
    },
    {
      "cell_type": "code",
      "metadata": {
        "id": "eiZlX7oVvBsQ"
      },
      "source": [
        "from sklearn.model_selection import train_test_split \n",
        "X_train, X_test, y_train, y_test = train_test_split(X, y, test_size=0.3, random_state=1, stratify=y)"
      ],
      "execution_count": null,
      "outputs": []
    },
    {
      "cell_type": "markdown",
      "metadata": {
        "id": "Kuetxh5szuGN"
      },
      "source": [
        "### 3-1. 학습에 사용할 모델 개별 정의"
      ]
    },
    {
      "cell_type": "code",
      "metadata": {
        "id": "U_0gWG6pvX7R"
      },
      "source": [
        "from sklearn.tree import DecisionTreeClassifier # 결정 트리\n",
        "from sklearn.neighbors import KNeighborsClassifier # K-최근접 이웃\n",
        "from sklearn.linear_model import LogisticRegression # 로지스틱 회귀 모델\n",
        "\n",
        "\n",
        "logistic = LogisticRegression(solver='liblinear',\n",
        "                              penalty='l2',\n",
        "                              C=0.001,\n",
        "                              random_state=1)\n",
        "\n",
        "tree = DecisionTreeClassifier(max_depth=None,\n",
        "                              criterion='entropy',\n",
        "                              random_state=1)\n",
        "\n",
        "knn = KNeighborsClassifier(n_neighbors=1,\n",
        "                            p=2,\n",
        "                            metric='minkowski')\n",
        "\n",
        "\n",
        "\n"
      ],
      "execution_count": null,
      "outputs": []
    },
    {
      "cell_type": "markdown",
      "metadata": {
        "id": "sMUPuYtIz4uw"
      },
      "source": [
        "### 3-2. 학습에 사용할 모델 앙상블 정의"
      ]
    },
    {
      "cell_type": "code",
      "metadata": {
        "id": "8G8gb7xZz3Mr"
      },
      "source": [
        "from sklearn.ensemble import VotingClassifier # 과반수 투표(Majority Voting) \n",
        "voting_estimators = [('logistic', logistic), ('tree', tree), ('knn', knn)]\n",
        "voting = VotingClassifier(estimators = voting_estimators,\n",
        "                          voting='soft')\n"
      ],
      "execution_count": null,
      "outputs": []
    },
    {
      "cell_type": "markdown",
      "metadata": {
        "id": "-n4zIvGiz9Ou"
      },
      "source": [
        "### 4. K-fold 교차 검증을 통한 모델 평가\n",
        "- 이전에는 Accuracy_score/Confusion_matrix 를 사용함\n",
        "- cross_val_score의 scoring에 들어가는 스트링종류\n",
        "  : https://scikit-learn.org/stable/modules/model_evaluation.html 참고"
      ]
    },
    {
      "cell_type": "code",
      "metadata": {
        "colab": {
          "base_uri": "https://localhost:8080/"
        },
        "id": "XNUDPZaSxa13",
        "outputId": "cc051bc7-1a1d-4fbe-e755-44ab6103fe9c"
      },
      "source": [
        "from sklearn.model_selection import cross_val_score # 교차타당도 # 추가\n",
        "\n",
        "clf_labels = ['Logistic regression', 'Decision tree', 'KNN', 'Majority voting']\n",
        "all_clf = [logistic, tree, knn, voting]\n",
        "\n",
        "for clf, label in zip(all_clf, clf_labels):\n",
        "    scores = cross_val_score(estimator=clf,X=X_train,y=y_train,cv=10,scoring='roc_auc')\n",
        "    print(\"ROC AUC: %0.3f (+/- %0.3f) [%s]\", (scores.mean(), scores.std(), label))"
      ],
      "execution_count": null,
      "outputs": [
        {
          "output_type": "stream",
          "text": [
            "ROC AUC: %0.3f (+/- %0.3f) [%s] (0.9276195033668649, 0.01984630447185705, 'Logistic regression')\n",
            "ROC AUC: %0.3f (+/- %0.3f) [%s] (0.9499227861055811, 0.032735680131811405, 'Decision tree')\n",
            "ROC AUC: %0.3f (+/- %0.3f) [%s] (0.7120816883018249, 0.04722587272864442, 'KNN')\n",
            "ROC AUC: %0.3f (+/- %0.3f) [%s] (0.9724206139059355, 0.01593603549077189, 'Majority voting')\n"
          ],
          "name": "stdout"
        }
      ]
    },
    {
      "cell_type": "markdown",
      "metadata": {
        "id": "P8TuA-9CzVre"
      },
      "source": [
        "### 5. GridSearch 방식을 이용한 모델 최적화\n",
        ": 모델의 하이퍼파라미터 튜닝에 사용"
      ]
    },
    {
      "cell_type": "code",
      "metadata": {
        "colab": {
          "base_uri": "https://localhost:8080/"
        },
        "id": "cI27jx-Xx09F",
        "outputId": "4f54346e-b8ce-4d3c-8b2d-67737d2d407f"
      },
      "source": [
        "from sklearn.model_selection import GridSearchCV # 하이퍼파라미터 튜닝\n",
        "\n",
        "params = {'logistic__C': [0.001, 0.1, 100.0],\n",
        "          'tree__max_depth': [1, 3, 5],\n",
        "          'knn__n_neighbors': [1, 3, 5]}\n",
        "\n",
        "grid = GridSearchCV(estimator=voting,\n",
        "                    param_grid=params,\n",
        "                    cv=10,\n",
        "                    scoring='roc_auc',\n",
        "                    iid=False)\n",
        "grid.fit(X_train, y_train)\n",
        "\n",
        "for r, _ in enumerate(grid.cv_results_['mean_test_score']):\n",
        "    print(\"%0.3f +/- %0.3f %r\"\n",
        "          % (grid.cv_results_['mean_test_score'][r], \n",
        "             grid.cv_results_['std_test_score'][r] / 2.0, \n",
        "             grid.cv_results_['params'][r]))\n",
        "    \n",
        "print('최적의 파타미터: %s' % grid.best_params_)\n",
        "print('ACU: %.3f' % grid.best_score_)    "
      ],
      "execution_count": null,
      "outputs": [
        {
          "output_type": "stream",
          "text": [
            "0.934 +/- 0.009 {'knn__n_neighbors': 1, 'logistic__C': 0.001, 'tree__max_depth': 1}\n",
            "0.975 +/- 0.005 {'knn__n_neighbors': 1, 'logistic__C': 0.001, 'tree__max_depth': 3}\n",
            "0.978 +/- 0.005 {'knn__n_neighbors': 1, 'logistic__C': 0.001, 'tree__max_depth': 5}\n",
            "0.952 +/- 0.009 {'knn__n_neighbors': 1, 'logistic__C': 0.1, 'tree__max_depth': 1}\n",
            "0.981 +/- 0.005 {'knn__n_neighbors': 1, 'logistic__C': 0.1, 'tree__max_depth': 3}\n",
            "0.983 +/- 0.006 {'knn__n_neighbors': 1, 'logistic__C': 0.1, 'tree__max_depth': 5}\n",
            "0.955 +/- 0.009 {'knn__n_neighbors': 1, 'logistic__C': 100.0, 'tree__max_depth': 1}\n",
            "0.983 +/- 0.005 {'knn__n_neighbors': 1, 'logistic__C': 100.0, 'tree__max_depth': 3}\n",
            "0.985 +/- 0.005 {'knn__n_neighbors': 1, 'logistic__C': 100.0, 'tree__max_depth': 5}\n",
            "0.938 +/- 0.009 {'knn__n_neighbors': 3, 'logistic__C': 0.001, 'tree__max_depth': 1}\n",
            "0.981 +/- 0.005 {'knn__n_neighbors': 3, 'logistic__C': 0.001, 'tree__max_depth': 3}\n",
            "0.984 +/- 0.005 {'knn__n_neighbors': 3, 'logistic__C': 0.001, 'tree__max_depth': 5}\n",
            "0.958 +/- 0.009 {'knn__n_neighbors': 3, 'logistic__C': 0.1, 'tree__max_depth': 1}\n",
            "0.984 +/- 0.005 {'knn__n_neighbors': 3, 'logistic__C': 0.1, 'tree__max_depth': 3}\n",
            "0.985 +/- 0.006 {'knn__n_neighbors': 3, 'logistic__C': 0.1, 'tree__max_depth': 5}\n",
            "0.962 +/- 0.009 {'knn__n_neighbors': 3, 'logistic__C': 100.0, 'tree__max_depth': 1}\n",
            "0.985 +/- 0.005 {'knn__n_neighbors': 3, 'logistic__C': 100.0, 'tree__max_depth': 3}\n",
            "0.986 +/- 0.005 {'knn__n_neighbors': 3, 'logistic__C': 100.0, 'tree__max_depth': 5}\n",
            "0.936 +/- 0.008 {'knn__n_neighbors': 5, 'logistic__C': 0.001, 'tree__max_depth': 1}\n",
            "0.981 +/- 0.004 {'knn__n_neighbors': 5, 'logistic__C': 0.001, 'tree__max_depth': 3}\n",
            "0.984 +/- 0.005 {'knn__n_neighbors': 5, 'logistic__C': 0.001, 'tree__max_depth': 5}\n",
            "0.957 +/- 0.008 {'knn__n_neighbors': 5, 'logistic__C': 0.1, 'tree__max_depth': 1}\n",
            "0.984 +/- 0.005 {'knn__n_neighbors': 5, 'logistic__C': 0.1, 'tree__max_depth': 3}\n",
            "0.985 +/- 0.006 {'knn__n_neighbors': 5, 'logistic__C': 0.1, 'tree__max_depth': 5}\n",
            "0.961 +/- 0.008 {'knn__n_neighbors': 5, 'logistic__C': 100.0, 'tree__max_depth': 1}\n",
            "0.985 +/- 0.005 {'knn__n_neighbors': 5, 'logistic__C': 100.0, 'tree__max_depth': 3}\n",
            "0.986 +/- 0.005 {'knn__n_neighbors': 5, 'logistic__C': 100.0, 'tree__max_depth': 5}\n",
            "최적의 파타미터: {'knn__n_neighbors': 3, 'logistic__C': 100.0, 'tree__max_depth': 5}\n",
            "ACU: 0.986\n"
          ],
          "name": "stdout"
        },
        {
          "output_type": "stream",
          "text": [
            "/usr/local/lib/python3.6/dist-packages/sklearn/model_selection/_search.py:823: FutureWarning: The parameter 'iid' is deprecated in 0.22 and will be removed in 0.24.\n",
            "  \"removed in 0.24.\", FutureWarning\n"
          ],
          "name": "stderr"
        }
      ]
    }
  ]
}