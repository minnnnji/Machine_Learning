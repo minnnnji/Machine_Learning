{
  "nbformat": 4,
  "nbformat_minor": 0,
  "metadata": {
    "kernelspec": {
      "display_name": "Python 3",
      "language": "python",
      "name": "python3"
    },
    "language_info": {
      "codemirror_mode": {
        "name": "ipython",
        "version": 3
      },
      "file_extension": ".py",
      "mimetype": "text/x-python",
      "name": "python",
      "nbconvert_exporter": "python",
      "pygments_lexer": "ipython3",
      "version": "3.6.9"
    },
    "colab": {
      "name": "08장_dimensional reduction.ipynb",
      "provenance": []
    }
  },
  "cells": [
    {
      "cell_type": "markdown",
      "metadata": {
        "id": "NgM9fpTP7w_B"
      },
      "source": [
        "### 와인데이터를 활용한 PCA와 LDA 비교"
      ]
    },
    {
      "cell_type": "code",
      "metadata": {
        "id": "B7Qbi9mi6MMR"
      },
      "source": [
        "# wine data 불러오기 \n",
        "import pandas as pd\n",
        "dat_wine=pd.read_csv('http://archive.ics.uci.edu/ml/machine-learning-databases/'\n",
        "                     'wine/wine.data',header=None) # wine data 불러오기\n",
        "\n",
        "from sklearn.model_selection import train_test_split\n",
        "X,y=dat_wine.iloc[:,1:].values, dat_wine.iloc[:,0].values\n",
        "X_train,X_test,y_train,y_test=train_test_split(X,y,test_size=0.3, random_state=1,stratify=y)\n",
        "\n",
        "from sklearn.preprocessing import StandardScaler\n",
        "std=StandardScaler()\n",
        "X_train_std=std.fit_transform(X_train)\n",
        "X_test_std=std.transform(X_test)"
      ],
      "execution_count": 1,
      "outputs": []
    },
    {
      "cell_type": "code",
      "metadata": {
        "id": "tTf74xks6MMR",
        "colab": {
          "base_uri": "https://localhost:8080/"
        },
        "outputId": "b970e7fc-6670-44d2-a449-0787fb176d49"
      },
      "source": [
        "dat_wine.columns"
      ],
      "execution_count": 2,
      "outputs": [
        {
          "output_type": "execute_result",
          "data": {
            "text/plain": [
              "Int64Index([0, 1, 2, 3, 4, 5, 6, 7, 8, 9, 10, 11, 12, 13], dtype='int64')"
            ]
          },
          "metadata": {
            "tags": []
          },
          "execution_count": 2
        }
      ]
    },
    {
      "cell_type": "code",
      "metadata": {
        "id": "IsdPDITA6MMR",
        "colab": {
          "base_uri": "https://localhost:8080/"
        },
        "outputId": "7f9322e9-31e3-4954-eca9-67c12d7bb574"
      },
      "source": [
        "# 고유값, 고유벡터 구하기\n",
        "import numpy as np\n",
        "scov=np.cov(X_train_std.T)\n",
        "eigen_vals, eigen_vecs=np.linalg.eig(scov)\n",
        "print('Eigenvalues \\n%s' %eigen_vals)"
      ],
      "execution_count": 3,
      "outputs": [
        {
          "output_type": "stream",
          "text": [
            "Eigenvalues \n",
            "[4.7095539  2.63606471 1.55728758 0.93422662 0.85129454 0.5709688\n",
            " 0.46462025 0.37764772 0.10409155 0.14951983 0.21165109 0.2630501\n",
            " 0.27571434]\n"
          ],
          "name": "stdout"
        }
      ]
    },
    {
      "cell_type": "code",
      "metadata": {
        "id": "Ej-3VnJJ6MMR",
        "colab": {
          "base_uri": "https://localhost:8080/",
          "height": 278
        },
        "outputId": "40b6ab23-9947-47ce-a783-92981dea4fbc"
      },
      "source": [
        "# Explained variance ratio\n",
        "tot = sum(eigen_vals)\n",
        "var_exp = [(i / tot) for i in sorted(eigen_vals, reverse=True)]\n",
        "cum_var_exp = np.cumsum(var_exp)\n",
        "\n",
        "import matplotlib.pyplot as plt\n",
        "plt.bar(range(1,14), var_exp, alpha=0.5, align='center',label='individual explained variance')\n",
        "plt.step(range(1,14), cum_var_exp, where='mid',label='cumulative explained variance')\n",
        "plt.ylabel('Explained variance ratio')\n",
        "plt.xlabel('Principal component index')\n",
        "plt.legend(loc='best')\n",
        "plt.show()"
      ],
      "execution_count": 4,
      "outputs": [
        {
          "output_type": "display_data",
          "data": {
            "image/png": "[encoded data removed]",
            "text/plain": [
              "<Figure size 432x288 with 1 Axes>"
            ]
          },
          "metadata": {
            "tags": [],
            "needs_background": "light"
          }
        }
      ]
    },
    {
      "cell_type": "code",
      "metadata": {
        "id": "TX2vtxEe6MMS",
        "colab": {
          "base_uri": "https://localhost:8080/"
        },
        "outputId": "afa5d87f-77f7-4882-b53d-235666f9ce44"
      },
      "source": [
        "# PCA를 통해 차원 축소 후 로지스틱 회귀\n",
        "from sklearn.linear_model import LogisticRegression\n",
        "from sklearn.decomposition import PCA\n",
        "\n",
        "lpca = PCA(n_components=4)\n",
        "X_train_pca = lpca.fit_transform(X_train_std)\n",
        "X_test_pca = lpca.transform(X_test_std)\n",
        "\n",
        "lr=LogisticRegression()\n",
        "lr.fit(X_train_pca, y_train)\n",
        "y_train_pre=lr.predict(X_train_pca)\n",
        "y_test_pre=lr.predict(X_test_pca)\n",
        "\n",
        "from sklearn import metrics\n",
        "print(metrics.accuracy_score(y_train, y_train_pre))\n",
        "print(metrics.accuracy_score(y_test, y_test_pre))"
      ],
      "execution_count": 5,
      "outputs": [
        {
          "output_type": "stream",
          "text": [
            "0.9758064516129032\n",
            "0.9629629629629629\n"
          ],
          "name": "stdout"
        }
      ]
    },
    {
      "cell_type": "code",
      "metadata": {
        "id": "YvrVg7gS6MMS",
        "colab": {
          "base_uri": "https://localhost:8080/"
        },
        "outputId": "0f2f6020-f85e-4d23-9efd-d925ebed65b0"
      },
      "source": [
        "# LDA로 차원 축소 후 로지스틱 회귀\n",
        "from sklearn.discriminant_analysis import LinearDiscriminantAnalysis as LDA\n",
        "\n",
        "lda=LDA(n_components=2) # LDA에 n_components=2를 지정하면 LDA가 차원을 2로 줄여준다. \n",
        "X_train_lda=lda.fit_transform(X_train_std,y_train) # wine data에 의해 뽑힘.\n",
        "X_test_lda=lda.transform(X_test_std) \n",
        "\n",
        "lr=LogisticRegression()\n",
        "lr.fit(X_train_lda, y_train)\n",
        "y_train_pred=lr.predict(X_train_lda)\n",
        "y_test_pred=lr.predict(X_test_lda)\n",
        "\n",
        "print(metrics.accuracy_score(y_train, y_train_pred)) \n",
        "print(metrics.accuracy_score(y_test, y_test_pred))\n",
        "print(metrics.confusion_matrix(y_test, y_test_pred))"
      ],
      "execution_count": 6,
      "outputs": [
        {
          "output_type": "stream",
          "text": [
            "1.0\n",
            "0.9629629629629629\n",
            "[[18  0  0]\n",
            " [ 1 19  1]\n",
            " [ 0  0 15]]\n"
          ],
          "name": "stdout"
        }
      ]
    },
    {
      "cell_type": "code",
      "metadata": {
        "id": "EYWopmcR7uGK"
      },
      "source": [
        ""
      ],
      "execution_count": null,
      "outputs": []
    }
  ]
}