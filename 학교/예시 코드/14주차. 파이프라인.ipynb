{
  "nbformat": 4,
  "nbformat_minor": 0,
  "metadata": {
    "colab": {
      "name": "파이프라인.ipynb",
      "provenance": [],
      "collapsed_sections": []
    },
    "kernelspec": {
      "name": "python3",
      "display_name": "Python 3"
    }
  },
  "cells": [
    {
      "cell_type": "markdown",
      "metadata": {
        "id": "h3qyjrY9zbdR"
      },
      "source": [
        "### 1-1. 데이터 로더"
      ]
    },
    {
      "cell_type": "code",
      "metadata": {
        "colab": {
          "base_uri": "https://localhost:8080/",
          "height": 224
        },
        "id": "Jsb1d_77uRYK",
        "outputId": "94bc58d0-10bc-4df1-940f-97676f54d70d"
      },
      "source": [
        "import pandas as pd\n",
        "\n",
        "bank_df = pd.read_csv('UniversalBank.csv')\n",
        "bank_df.head()"
      ],
      "execution_count": null,
      "outputs": [
        {
          "output_type": "execute_result",
          "data": {
            "text/html": [
              "<div>\n",
              "<style scoped>\n",
              "    .dataframe tbody tr th:only-of-type {\n",
              "        vertical-align: middle;\n",
              "    }\n",
              "\n",
              "    .dataframe tbody tr th {\n",
              "        vertical-align: top;\n",
              "    }\n",
              "\n",
              "    .dataframe thead th {\n",
              "        text-align: right;\n",
              "    }\n",
              "</style>\n",
              "<table border=\"1\" class=\"dataframe\">\n",
              "  <thead>\n",
              "    <tr style=\"text-align: right;\">\n",
              "      <th></th>\n",
              "      <th>ID</th>\n",
              "      <th>Age</th>\n",
              "      <th>Experience</th>\n",
              "      <th>Income</th>\n",
              "      <th>ZIPCode</th>\n",
              "      <th>Family</th>\n",
              "      <th>CCAvg</th>\n",
              "      <th>Education</th>\n",
              "      <th>Mortgage</th>\n",
              "      <th>PersonalLoan</th>\n",
              "      <th>SecuritiesAccount</th>\n",
              "      <th>CDAccount</th>\n",
              "      <th>Online</th>\n",
              "      <th>CreditCard</th>\n",
              "    </tr>\n",
              "  </thead>\n",
              "  <tbody>\n",
              "    <tr>\n",
              "      <th>0</th>\n",
              "      <td>1</td>\n",
              "      <td>25</td>\n",
              "      <td>1</td>\n",
              "      <td>49</td>\n",
              "      <td>91107</td>\n",
              "      <td>4</td>\n",
              "      <td>1.6</td>\n",
              "      <td>1</td>\n",
              "      <td>0</td>\n",
              "      <td>0</td>\n",
              "      <td>1</td>\n",
              "      <td>0</td>\n",
              "      <td>0</td>\n",
              "      <td>0</td>\n",
              "    </tr>\n",
              "    <tr>\n",
              "      <th>1</th>\n",
              "      <td>2</td>\n",
              "      <td>45</td>\n",
              "      <td>19</td>\n",
              "      <td>34</td>\n",
              "      <td>90089</td>\n",
              "      <td>3</td>\n",
              "      <td>1.5</td>\n",
              "      <td>1</td>\n",
              "      <td>0</td>\n",
              "      <td>0</td>\n",
              "      <td>1</td>\n",
              "      <td>0</td>\n",
              "      <td>0</td>\n",
              "      <td>0</td>\n",
              "    </tr>\n",
              "    <tr>\n",
              "      <th>2</th>\n",
              "      <td>3</td>\n",
              "      <td>39</td>\n",
              "      <td>15</td>\n",
              "      <td>11</td>\n",
              "      <td>94720</td>\n",
              "      <td>1</td>\n",
              "      <td>1.0</td>\n",
              "      <td>1</td>\n",
              "      <td>0</td>\n",
              "      <td>0</td>\n",
              "      <td>0</td>\n",
              "      <td>0</td>\n",
              "      <td>0</td>\n",
              "      <td>0</td>\n",
              "    </tr>\n",
              "    <tr>\n",
              "      <th>3</th>\n",
              "      <td>4</td>\n",
              "      <td>35</td>\n",
              "      <td>9</td>\n",
              "      <td>100</td>\n",
              "      <td>94112</td>\n",
              "      <td>1</td>\n",
              "      <td>2.7</td>\n",
              "      <td>2</td>\n",
              "      <td>0</td>\n",
              "      <td>0</td>\n",
              "      <td>0</td>\n",
              "      <td>0</td>\n",
              "      <td>0</td>\n",
              "      <td>0</td>\n",
              "    </tr>\n",
              "    <tr>\n",
              "      <th>4</th>\n",
              "      <td>5</td>\n",
              "      <td>35</td>\n",
              "      <td>8</td>\n",
              "      <td>45</td>\n",
              "      <td>91330</td>\n",
              "      <td>4</td>\n",
              "      <td>1.0</td>\n",
              "      <td>2</td>\n",
              "      <td>0</td>\n",
              "      <td>0</td>\n",
              "      <td>0</td>\n",
              "      <td>0</td>\n",
              "      <td>0</td>\n",
              "      <td>1</td>\n",
              "    </tr>\n",
              "  </tbody>\n",
              "</table>\n",
              "</div>"
            ],
            "text/plain": [
              "   ID  Age  Experience  ...  CDAccount  Online  CreditCard\n",
              "0   1   25           1  ...          0       0           0\n",
              "1   2   45          19  ...          0       0           0\n",
              "2   3   39          15  ...          0       0           0\n",
              "3   4   35           9  ...          0       0           0\n",
              "4   5   35           8  ...          0       0           1\n",
              "\n",
              "[5 rows x 14 columns]"
            ]
          },
          "metadata": {
            "tags": []
          },
          "execution_count": 3
        }
      ]
    },
    {
      "cell_type": "markdown",
      "metadata": {
        "id": "JAUDE9pLznRL"
      },
      "source": [
        "### 1-2. 학습에 사용할 특성변수 선택"
      ]
    },
    {
      "cell_type": "code",
      "metadata": {
        "id": "_xo4A36Rug3o"
      },
      "source": [
        "X = bank_df.drop (['ID','ZIPCode','PersonalLoan'], axis=1)\n",
        "y = bank_df['PersonalLoan']\n"
      ],
      "execution_count": null,
      "outputs": []
    },
    {
      "cell_type": "markdown",
      "metadata": {
        "id": "zcimeD2rzs-l"
      },
      "source": [
        "### 2. 데이터 분할"
      ]
    },
    {
      "cell_type": "code",
      "metadata": {
        "id": "eiZlX7oVvBsQ"
      },
      "source": [
        "from sklearn.model_selection import train_test_split \n",
        "X_train, X_test, y_train, y_test = train_test_split(X, y, test_size=0.3, random_state=1, stratify=y)"
      ],
      "execution_count": null,
      "outputs": []
    },
    {
      "cell_type": "markdown",
      "metadata": {
        "id": "Kuetxh5szuGN"
      },
      "source": [
        "### 3-1. 학습에 사용할 모델 개별 정의"
      ]
    },
    {
      "cell_type": "code",
      "metadata": {
        "id": "U_0gWG6pvX7R",
        "colab": {
          "base_uri": "https://localhost:8080/"
        },
        "outputId": "82346f03-f0cb-454c-f70c-62a4d856b00f"
      },
      "source": [
        "from sklearn.tree import DecisionTreeClassifier # 결정 트리\n",
        "\n",
        "tree = DecisionTreeClassifier(max_depth=None, criterion='gini',random_state=1)\n",
        "tree.fit(X_train, y_train)\n"
      ],
      "execution_count": null,
      "outputs": [
        {
          "output_type": "execute_result",
          "data": {
            "text/plain": [
              "DecisionTreeClassifier(ccp_alpha=0.0, class_weight=None, criterion='gini',\n",
              "                       max_depth=None, max_features=None, max_leaf_nodes=None,\n",
              "                       min_impurity_decrease=0.0, min_impurity_split=None,\n",
              "                       min_samples_leaf=1, min_samples_split=2,\n",
              "                       min_weight_fraction_leaf=0.0, presort='deprecated',\n",
              "                       random_state=1, splitter='best')"
            ]
          },
          "metadata": {
            "tags": []
          },
          "execution_count": 7
        }
      ]
    },
    {
      "cell_type": "markdown",
      "metadata": {
        "id": "dpE9yw3YMrP4"
      },
      "source": [
        "### 3-2. 모델 검정"
      ]
    },
    {
      "cell_type": "code",
      "metadata": {
        "colab": {
          "base_uri": "https://localhost:8080/"
        },
        "id": "p5WeZvb1MofG",
        "outputId": "0073bfaa-e05b-451b-c643-7f704a8e73a7"
      },
      "source": [
        "from sklearn.metrics import accuracy_score, precision_score, recall_score, f1_score, roc_auc_score # 정확도, 민감도 등\n",
        "\n",
        "y_pred = tree.predict(X_test)\n",
        "print('잘못 분류된 샘플 개수: %d' % (y_test != y_pred).sum())\n",
        "print('정확도: %.3f' % accuracy_score(y_test, y_pred))\n",
        "print('정밀도: %.3f' % precision_score(y_true=y_test, y_pred=y_pred))\n",
        "print('재현율: %.3f' % recall_score(y_true=y_test, y_pred=y_pred))\n",
        "print('F1: %.3f' % f1_score(y_true=y_test, y_pred=y_pred))\n"
      ],
      "execution_count": null,
      "outputs": [
        {
          "output_type": "stream",
          "text": [
            "잘못 분류된 샘플 개수: 28\n",
            "정확도: 0.981\n",
            "정밀도: 0.914\n",
            "재현율: 0.889\n",
            "F1: 0.901\n"
          ],
          "name": "stdout"
        }
      ]
    },
    {
      "cell_type": "markdown",
      "metadata": {
        "id": "FPQJC970M9KD"
      },
      "source": [
        "### 4. 교차검증"
      ]
    },
    {
      "cell_type": "code",
      "metadata": {
        "id": "EjrCOVzgzHYS",
        "colab": {
          "base_uri": "https://localhost:8080/"
        },
        "outputId": "d6645201-0057-44c8-d3c9-89fd399c1fe6"
      },
      "source": [
        "from sklearn.model_selection import cross_validate # 교차타당도\n",
        "from sklearn.pipeline import make_pipeline # 파이프라인 구축\n",
        "import numpy as np\n",
        "\n",
        "scores = cross_validate(estimator=tree, \n",
        "                        X=X_train, \n",
        "                        y=y_train, \n",
        "                        scoring=['accuracy'], \n",
        "                        cv=10, \n",
        "                        n_jobs=-1,\n",
        "                        return_train_score=False)\n",
        "print('CV 정확도 점수: %s' % scores['test_accuracy'])\n",
        "print('CV 정확도: %.3f +/- %.3f' % (np.mean(scores['test_accuracy']), \n",
        "                                 np.std(scores['test_accuracy'])))"
      ],
      "execution_count": null,
      "outputs": [
        {
          "output_type": "stream",
          "text": [
            "CV 정확도 점수: [0.99428571 0.98       0.97714286 0.98285714 0.97714286 0.97714286\n",
            " 0.99428571 0.98571429 0.96857143 0.98      ]\n",
            "CV 정확도: 0.982 +/- 0.008\n"
          ],
          "name": "stdout"
        }
      ]
    },
    {
      "cell_type": "markdown",
      "metadata": {
        "id": "jtKJCBzCNm8I"
      },
      "source": [
        "### 5-1. 파이프라인 학습"
      ]
    },
    {
      "cell_type": "code",
      "metadata": {
        "id": "MIUDbhUfNo9o"
      },
      "source": [
        "from sklearn.preprocessing import StandardScaler\n",
        "from sklearn.decomposition import PCA\n",
        "from sklearn.model_selection import GridSearchCV\n",
        "\n",
        "#pipe_tree = make_pipeline( StandardScaler(), PCA(n_components=10), DecisionTreeClassifier())  # 98.514\n",
        "pipe_tree = make_pipeline(DecisionTreeClassifier())\n"
      ],
      "execution_count": null,
      "outputs": []
    },
    {
      "cell_type": "code",
      "metadata": {
        "id": "txAVENsDyGcG"
      },
      "source": [
        "\n",
        "param_range1 = [1,2,3,4,5,6,7,8,9,10] # 수정\n",
        "param_range2 = [10,20,30,40,50] # 수정\n",
        "\n",
        "param_grid = [{'decisiontreeclassifier__max_depth': param_range1, # 수정\n",
        "               'decisiontreeclassifier__min_samples_leaf': param_range2}] # 수정\n",
        "\n",
        "gs = GridSearchCV(estimator=pipe_tree, # 수정\n",
        "                  param_grid=param_grid, \n",
        "                  scoring='accuracy', \n",
        "                  cv=10,\n",
        "                  n_jobs=-1)\n",
        "\n",
        "gs = gs.fit(X_train, y_train)\n",
        "\n",
        "print(gs.best_score_)\n",
        "print(gs.best_params_)\n"
      ],
      "execution_count": null,
      "outputs": []
    },
    {
      "cell_type": "markdown",
      "metadata": {
        "id": "1CbroCrCOWX9"
      },
      "source": [
        "### 5-2. 파이파라인 학습 모델 검정"
      ]
    },
    {
      "cell_type": "code",
      "metadata": {
        "colab": {
          "base_uri": "https://localhost:8080/"
        },
        "id": "TkGNlpacOV-V",
        "outputId": "c345e5f2-5037-4381-adb3-463bb7b4ad37"
      },
      "source": [
        "from sklearn.metrics import confusion_matrix, classification_report\n",
        "\n",
        "best_tree = gs.best_estimator_\n",
        "best_tree.fit(X_train, y_train)\n",
        "y_pred = best_tree.predict(X_test) \n",
        "\n",
        "print('Classification Report')\n",
        "print(classification_report(y_test, y_pred))"
      ],
      "execution_count": null,
      "outputs": [
        {
          "output_type": "stream",
          "text": [
            "Classification Report\n",
            "              precision    recall  f1-score   support\n",
            "\n",
            "           0       0.99      0.99      0.99      1356\n",
            "           1       0.93      0.87      0.90       144\n",
            "\n",
            "    accuracy                           0.98      1500\n",
            "   macro avg       0.96      0.93      0.94      1500\n",
            "weighted avg       0.98      0.98      0.98      1500\n",
            "\n"
          ],
          "name": "stdout"
        }
      ]
    },
    {
      "cell_type": "code",
      "metadata": {
        "id": "hsFZ_tNRu3OS"
      },
      "source": [
        ""
      ],
      "execution_count": null,
      "outputs": []
    }
  ]
}