{
 "cells": [
  {
   "cell_type": "code",
   "execution_count": 1,
   "metadata": {
    "_cell_guid": "b1076dfc-b9ad-4769-8c92-a6c4dae69d19",
    "_uuid": "8f2839f25d086af736a60e9eeb907d3b93b6e0e5",
    "execution": {
     "iopub.execute_input": "2020-12-18T05:19:22.767114Z",
     "iopub.status.busy": "2020-12-18T05:19:22.766195Z",
     "iopub.status.idle": "2020-12-18T05:19:22.772034Z",
     "shell.execute_reply": "2020-12-18T05:19:22.772581Z"
    },
    "papermill": {
     "duration": 0.022814,
     "end_time": "2020-12-18T05:19:22.772764",
     "exception": false,
     "start_time": "2020-12-18T05:19:22.749950",
     "status": "completed"
    },
    "tags": []
   },
   "outputs": [
    {
     "name": "stdout",
     "output_type": "stream",
     "text": [
      "/kaggle/input/2020mlfinalexamp5/submission_sample.csv\n",
      "/kaggle/input/2020mlfinalexamp5/train.csv\n",
      "/kaggle/input/2020mlfinalexamp5/test.csv\n"
     ]
    }
   ],
   "source": [
    "# This Python 3 environment comes with many helpful analytics libraries installed\n",
    "# It is defined by the kaggle/python Docker image: https://github.com/kaggle/docker-python\n",
    "# For example, here's several helpful packages to load\n",
    "\n",
    "import numpy as np # linear algebra\n",
    "import pandas as pd # data processing, CSV file I/O (e.g. pd.read_csv)\n",
    "\n",
    "# Input data files are available in the read-only \"../input/\" directory\n",
    "# For example, running this (by clicking run or pressing Shift+Enter) will list all files under the input directory\n",
    "\n",
    "import os\n",
    "for dirname, _, filenames in os.walk('/kaggle/input'):\n",
    "    for filename in filenames:\n",
    "        print(os.path.join(dirname, filename))\n",
    "\n",
    "# You can write up to 20GB to the current directory (/kaggle/working/) that gets preserved as output when you create a version using \"Save & Run All\" \n",
    "# You can also write temporary files to /kaggle/temp/, but they won't be saved outside of the current session"
   ]
  },
  {
   "cell_type": "code",
   "execution_count": 2,
   "metadata": {
    "_cell_guid": "79c7e3d0-c299-4dcb-8224-4455121ee9b0",
    "_uuid": "d629ff2d2480ee46fbb7e2d37f6b5fab8052498a",
    "execution": {
     "iopub.execute_input": "2020-12-18T05:19:22.800427Z",
     "iopub.status.busy": "2020-12-18T05:19:22.799707Z",
     "iopub.status.idle": "2020-12-18T05:19:22.864332Z",
     "shell.execute_reply": "2020-12-18T05:19:22.863595Z"
    },
    "papermill": {
     "duration": 0.08058,
     "end_time": "2020-12-18T05:19:22.864453",
     "exception": false,
     "start_time": "2020-12-18T05:19:22.783873",
     "status": "completed"
    },
    "tags": []
   },
   "outputs": [],
   "source": [
    "train = pd.read_csv('/kaggle/input/2020mlfinalexamp5/train.csv')\n",
    "test = pd.read_csv('/kaggle/input/2020mlfinalexamp5/test.csv')\n",
    "submit = pd.read_csv('/kaggle/input/2020mlfinalexamp5/submission_sample.csv')"
   ]
  },
  {
   "cell_type": "code",
   "execution_count": 3,
   "metadata": {
    "execution": {
     "iopub.execute_input": "2020-12-18T05:19:22.890320Z",
     "iopub.status.busy": "2020-12-18T05:19:22.889620Z",
     "iopub.status.idle": "2020-12-18T05:19:22.897115Z",
     "shell.execute_reply": "2020-12-18T05:19:22.897671Z"
    },
    "papermill": {
     "duration": 0.025024,
     "end_time": "2020-12-18T05:19:22.897815",
     "exception": false,
     "start_time": "2020-12-18T05:19:22.872791",
     "status": "completed"
    },
    "tags": []
   },
   "outputs": [],
   "source": [
    "train.drop(['inst_id','sido','ownerChange'],axis=1,inplace=True)\n",
    "test.drop(['inst_id','sido','ownerChange'],axis=1,inplace=True)"
   ]
  },
  {
   "cell_type": "code",
   "execution_count": 4,
   "metadata": {
    "execution": {
     "iopub.execute_input": "2020-12-18T05:19:22.918190Z",
     "iopub.status.busy": "2020-12-18T05:19:22.917533Z",
     "iopub.status.idle": "2020-12-18T05:19:22.923655Z",
     "shell.execute_reply": "2020-12-18T05:19:22.924236Z"
    },
    "papermill": {
     "duration": 0.01811,
     "end_time": "2020-12-18T05:19:22.924386",
     "exception": false,
     "start_time": "2020-12-18T05:19:22.906276",
     "status": "completed"
    },
    "tags": []
   },
   "outputs": [],
   "source": [
    "open = {'open':1,' close':0}\n",
    "\n",
    "train['OC'] = train['OC'].map(open)"
   ]
  },
  {
   "cell_type": "code",
   "execution_count": 5,
   "metadata": {
    "execution": {
     "iopub.execute_input": "2020-12-18T05:19:22.945142Z",
     "iopub.status.busy": "2020-12-18T05:19:22.944456Z",
     "iopub.status.idle": "2020-12-18T05:19:22.953076Z",
     "shell.execute_reply": "2020-12-18T05:19:22.953656Z"
    },
    "papermill": {
     "duration": 0.020641,
     "end_time": "2020-12-18T05:19:22.953805",
     "exception": false,
     "start_time": "2020-12-18T05:19:22.933164",
     "status": "completed"
    },
    "tags": []
   },
   "outputs": [],
   "source": [
    "inst = {'nursing_hospital': 0, 'hospital': 1, 'general_hospital': 2,\n",
    "        'clinic': 3, 'traditional_hospital': 4, 'traditional_clinic': 5,\n",
    "        'dental_clinic': 6}\n",
    "\n",
    "train['instkind'] = train['instkind'].map(inst)\n",
    "test['instkind'] = test['instkind'].map(inst)"
   ]
  },
  {
   "cell_type": "code",
   "execution_count": 6,
   "metadata": {
    "execution": {
     "iopub.execute_input": "2020-12-18T05:19:22.975207Z",
     "iopub.status.busy": "2020-12-18T05:19:22.974527Z",
     "iopub.status.idle": "2020-12-18T05:19:24.264044Z",
     "shell.execute_reply": "2020-12-18T05:19:24.264598Z"
    },
    "papermill": {
     "duration": 1.3017,
     "end_time": "2020-12-18T05:19:24.264773",
     "exception": false,
     "start_time": "2020-12-18T05:19:22.963073",
     "status": "completed"
    },
    "tags": []
   },
   "outputs": [],
   "source": [
    "from sklearn.impute import SimpleImputer\n",
    "im = SimpleImputer(missing_values=np.nan, strategy='mean')\n",
    "\n",
    "test = im.fit_transform(test)\n",
    "train = im.fit_transform(train)\n",
    "\n",
    "test = pd.DataFrame(test)\n",
    "train = pd.DataFrame(train)\n",
    "\n",
    "x_train = train.loc[:,1:54]\n",
    "y_train = train.loc[:,0]\n",
    "\n",
    "test = test.loc[:,0:53]"
   ]
  },
  {
   "cell_type": "code",
   "execution_count": 7,
   "metadata": {
    "execution": {
     "iopub.execute_input": "2020-12-18T05:19:24.286724Z",
     "iopub.status.busy": "2020-12-18T05:19:24.285720Z",
     "iopub.status.idle": "2020-12-18T05:19:24.538718Z",
     "shell.execute_reply": "2020-12-18T05:19:24.539239Z"
    },
    "papermill": {
     "duration": 0.265773,
     "end_time": "2020-12-18T05:19:24.539403",
     "exception": false,
     "start_time": "2020-12-18T05:19:24.273630",
     "status": "completed"
    },
    "tags": []
   },
   "outputs": [],
   "source": [
    "from imblearn.over_sampling import SMOTE\n",
    "\n",
    "sm = SMOTE()\n",
    "\n",
    "x_train, y_train = sm.fit_resample(x_train,y_train)"
   ]
  },
  {
   "cell_type": "code",
   "execution_count": 8,
   "metadata": {
    "execution": {
     "iopub.execute_input": "2020-12-18T05:19:24.562227Z",
     "iopub.status.busy": "2020-12-18T05:19:24.561154Z",
     "iopub.status.idle": "2020-12-18T05:19:24.567958Z",
     "shell.execute_reply": "2020-12-18T05:19:24.567423Z"
    },
    "papermill": {
     "duration": 0.019211,
     "end_time": "2020-12-18T05:19:24.568073",
     "exception": false,
     "start_time": "2020-12-18T05:19:24.548862",
     "status": "completed"
    },
    "tags": []
   },
   "outputs": [],
   "source": [
    "from sklearn.model_selection import GridSearchCV\n",
    "from sklearn.svm import SVC\n",
    "from sklearn.preprocessing import StandardScaler\n",
    "from sklearn.pipeline import make_pipeline\n",
    "\n",
    "std = StandardScaler()"
   ]
  },
  {
   "cell_type": "code",
   "execution_count": 9,
   "metadata": {
    "execution": {
     "iopub.execute_input": "2020-12-18T05:19:24.596275Z",
     "iopub.status.busy": "2020-12-18T05:19:24.595591Z",
     "iopub.status.idle": "2020-12-18T05:19:29.246124Z",
     "shell.execute_reply": "2020-12-18T05:19:29.246627Z"
    },
    "papermill": {
     "duration": 4.669608,
     "end_time": "2020-12-18T05:19:29.246840",
     "exception": false,
     "start_time": "2020-12-18T05:19:24.577232",
     "status": "completed"
    },
    "tags": []
   },
   "outputs": [],
   "source": [
    "param_grid = {'kernel': ('rbf','linear','poly'),'C':[0.1,1,10,100],'gamma':[0.0001,0.0005,0.001,0.1]}\n",
    "\n",
    "cv = GridSearchCV(SVC(), param_grid, cv = 5)\n",
    "\n",
    "clf = make_pipeline(std,cv)\n",
    "clf.fit(x_train,y_train)\n",
    "pred = clf.predict(test)"
   ]
  },
  {
   "cell_type": "code",
   "execution_count": 10,
   "metadata": {
    "execution": {
     "iopub.execute_input": "2020-12-18T05:19:29.268680Z",
     "iopub.status.busy": "2020-12-18T05:19:29.267996Z",
     "iopub.status.idle": "2020-12-18T05:19:29.667946Z",
     "shell.execute_reply": "2020-12-18T05:19:29.666779Z"
    },
    "papermill": {
     "duration": 0.41206,
     "end_time": "2020-12-18T05:19:29.668071",
     "exception": false,
     "start_time": "2020-12-18T05:19:29.256011",
     "status": "completed"
    },
    "tags": []
   },
   "outputs": [],
   "source": [
    "submit['OC'] = pred.astype(int)\n",
    "\n",
    "submit.to_csv('submission.csv',index=None, header=True)"
   ]
  }
 ],
 "metadata": {
  "kernelspec": {
   "display_name": "Python 3",
   "language": "python",
   "name": "python3"
  },
  "language_info": {
   "codemirror_mode": {
    "name": "ipython",
    "version": 3
   },
   "file_extension": ".py",
   "mimetype": "text/x-python",
   "name": "python",
   "nbconvert_exporter": "python",
   "pygments_lexer": "ipython3",
   "version": "3.7.6"
  },
  "papermill": {
   "duration": 12.094969,
   "end_time": "2020-12-18T05:19:29.694027",
   "environment_variables": {},
   "exception": null,
   "input_path": "__notebook__.ipynb",
   "output_path": "__notebook__.ipynb",
   "parameters": {},
   "start_time": "2020-12-18T05:19:17.599058",
   "version": "2.1.0"
  }
 },
 "nbformat": 4,
 "nbformat_minor": 4
}
