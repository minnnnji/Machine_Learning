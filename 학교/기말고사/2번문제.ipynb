{
 "cells": [
  {
   "cell_type": "code",
   "execution_count": 1,
   "metadata": {
    "_cell_guid": "b1076dfc-b9ad-4769-8c92-a6c4dae69d19",
    "_uuid": "8f2839f25d086af736a60e9eeb907d3b93b6e0e5",
    "execution": {
     "iopub.execute_input": "2020-12-18T04:03:25.849779Z",
     "iopub.status.busy": "2020-12-18T04:03:25.848738Z",
     "iopub.status.idle": "2020-12-18T04:03:25.856749Z",
     "shell.execute_reply": "2020-12-18T04:03:25.856162Z"
    },
    "papermill": {
     "duration": 0.023083,
     "end_time": "2020-12-18T04:03:25.856864",
     "exception": false,
     "start_time": "2020-12-18T04:03:25.833781",
     "status": "completed"
    },
    "tags": []
   },
   "outputs": [
    {
     "name": "stdout",
     "output_type": "stream",
     "text": [
      "/kaggle/input/2020mlfinalexamp2/sample_submission.csv\n",
      "/kaggle/input/2020mlfinalexamp2/train.csv\n",
      "/kaggle/input/2020mlfinalexamp2/test.csv\n"
     ]
    }
   ],
   "source": [
    "# This Python 3 environment comes with many helpful analytics libraries installed\n",
    "# It is defined by the kaggle/python Docker image: https://github.com/kaggle/docker-python\n",
    "# For example, here's several helpful packages to load\n",
    "\n",
    "import numpy as np # linear algebra\n",
    "import pandas as pd # data processing, CSV file I/O (e.g. pd.read_csv)\n",
    "\n",
    "# Input data files are available in the read-only \"../input/\" directory\n",
    "# For example, running this (by clicking run or pressing Shift+Enter) will list all files under the input directory\n",
    "\n",
    "import os\n",
    "for dirname, _, filenames in os.walk('/kaggle/input'):\n",
    "    for filename in filenames:\n",
    "        print(os.path.join(dirname, filename))\n",
    "\n",
    "# You can write up to 20GB to the current directory (/kaggle/working/) that gets preserved as output when you create a version using \"Save & Run All\" \n",
    "# You can also write temporary files to /kaggle/temp/, but they won't be saved outside of the current session"
   ]
  },
  {
   "cell_type": "code",
   "execution_count": 2,
   "metadata": {
    "_cell_guid": "79c7e3d0-c299-4dcb-8224-4455121ee9b0",
    "_uuid": "d629ff2d2480ee46fbb7e2d37f6b5fab8052498a",
    "execution": {
     "iopub.execute_input": "2020-12-18T04:03:25.877275Z",
     "iopub.status.busy": "2020-12-18T04:03:25.876612Z",
     "iopub.status.idle": "2020-12-18T04:03:25.927863Z",
     "shell.execute_reply": "2020-12-18T04:03:25.927126Z"
    },
    "papermill": {
     "duration": 0.0649,
     "end_time": "2020-12-18T04:03:25.927981",
     "exception": false,
     "start_time": "2020-12-18T04:03:25.863081",
     "status": "completed"
    },
    "tags": []
   },
   "outputs": [],
   "source": [
    "train = pd.read_csv('/kaggle/input/2020mlfinalexamp2/train.csv',index_col=0,header=None,skiprows=1)\n",
    "test = pd.read_csv('/kaggle/input/2020mlfinalexamp2/test.csv',index_col=0,header=None,skiprows=1)\n",
    "submit = pd.read_csv('/kaggle/input/2020mlfinalexamp2/sample_submission.csv')"
   ]
  },
  {
   "cell_type": "code",
   "execution_count": 3,
   "metadata": {
    "execution": {
     "iopub.execute_input": "2020-12-18T04:03:25.949493Z",
     "iopub.status.busy": "2020-12-18T04:03:25.948442Z",
     "iopub.status.idle": "2020-12-18T04:03:25.951636Z",
     "shell.execute_reply": "2020-12-18T04:03:25.952338Z"
    },
    "papermill": {
     "duration": 0.016988,
     "end_time": "2020-12-18T04:03:25.952552",
     "exception": false,
     "start_time": "2020-12-18T04:03:25.935564",
     "status": "completed"
    },
    "tags": []
   },
   "outputs": [],
   "source": [
    "x_train = train.loc[:,1:13]\n",
    "y_train = train.loc[:,14]\n",
    "\n",
    "x_test = test.loc[:,1:13]"
   ]
  },
  {
   "cell_type": "code",
   "execution_count": 4,
   "metadata": {
    "execution": {
     "iopub.execute_input": "2020-12-18T04:03:25.977811Z",
     "iopub.status.busy": "2020-12-18T04:03:25.977112Z",
     "iopub.status.idle": "2020-12-18T04:03:27.832536Z",
     "shell.execute_reply": "2020-12-18T04:03:27.831807Z"
    },
    "papermill": {
     "duration": 1.870511,
     "end_time": "2020-12-18T04:03:27.832654",
     "exception": false,
     "start_time": "2020-12-18T04:03:25.962143",
     "status": "completed"
    },
    "tags": []
   },
   "outputs": [],
   "source": [
    "import xgboost as xgb\n",
    "from sklearn.pipeline import make_pipeline\n",
    "from sklearn.preprocessing import StandardScaler, MinMaxScaler, RobustScaler\n",
    "\n",
    "\n",
    "std = StandardScaler()\n",
    "mm = MinMaxScaler()\n",
    "rob = RobustScaler()"
   ]
  },
  {
   "cell_type": "code",
   "execution_count": 5,
   "metadata": {
    "execution": {
     "iopub.execute_input": "2020-12-18T04:03:27.856362Z",
     "iopub.status.busy": "2020-12-18T04:03:27.855686Z",
     "iopub.status.idle": "2020-12-18T04:03:28.267852Z",
     "shell.execute_reply": "2020-12-18T04:03:28.267110Z"
    },
    "papermill": {
     "duration": 0.429038,
     "end_time": "2020-12-18T04:03:28.267972",
     "exception": false,
     "start_time": "2020-12-18T04:03:27.838934",
     "status": "completed"
    },
    "tags": []
   },
   "outputs": [],
   "source": [
    "xgb = xgb.XGBRegressor()\n",
    "\n",
    "clf = make_pipeline(std,xgb)\n",
    "clf.fit(x_train,y_train)\n",
    "pred = clf.predict(x_test)\n",
    "\n",
    "submit['가격'] = pred\n",
    "\n",
    "submit.to_csv('submission.csv',index=None, header=True)"
   ]
  },
  {
   "cell_type": "code",
   "execution_count": null,
   "metadata": {
    "papermill": {
     "duration": 0.005984,
     "end_time": "2020-12-18T04:03:28.280476",
     "exception": false,
     "start_time": "2020-12-18T04:03:28.274492",
     "status": "completed"
    },
    "tags": []
   },
   "outputs": [],
   "source": []
  }
 ],
 "metadata": {
  "kernelspec": {
   "display_name": "Python 3",
   "language": "python",
   "name": "python3"
  },
  "language_info": {
   "codemirror_mode": {
    "name": "ipython",
    "version": 3
   },
   "file_extension": ".py",
   "mimetype": "text/x-python",
   "name": "python",
   "nbconvert_exporter": "python",
   "pygments_lexer": "ipython3",
   "version": "3.7.6"
  },
  "papermill": {
   "duration": 7.526575,
   "end_time": "2020-12-18T04:03:28.395824",
   "environment_variables": {},
   "exception": null,
   "input_path": "__notebook__.ipynb",
   "output_path": "__notebook__.ipynb",
   "parameters": {},
   "start_time": "2020-12-18T04:03:20.869249",
   "version": "2.1.0"
  }
 },
 "nbformat": 4,
 "nbformat_minor": 4
}
