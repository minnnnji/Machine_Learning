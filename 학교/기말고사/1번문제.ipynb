{
 "cells": [
  {
   "cell_type": "code",
   "execution_count": 1,
   "metadata": {
    "_cell_guid": "b1076dfc-b9ad-4769-8c92-a6c4dae69d19",
    "_uuid": "8f2839f25d086af736a60e9eeb907d3b93b6e0e5",
    "execution": {
     "iopub.execute_input": "2020-12-18T05:26:27.994818Z",
     "iopub.status.busy": "2020-12-18T05:26:27.993913Z",
     "iopub.status.idle": "2020-12-18T05:26:28.002762Z",
     "shell.execute_reply": "2020-12-18T05:26:28.003571Z"
    },
    "papermill": {
     "duration": 0.01976,
     "end_time": "2020-12-18T05:26:28.003814",
     "exception": false,
     "start_time": "2020-12-18T05:26:27.984054",
     "status": "completed"
    },
    "tags": []
   },
   "outputs": [
    {
     "name": "stdout",
     "output_type": "stream",
     "text": [
      "/kaggle/input/2020mlfinalexamp1/sample_submission.csv\n",
      "/kaggle/input/2020mlfinalexamp1/train.csv\n",
      "/kaggle/input/2020mlfinalexamp1/test.csv\n"
     ]
    }
   ],
   "source": [
    "# This Python 3 environment comes with many helpful analytics libraries installed\n",
    "# It is defined by the kaggle/python Docker image: https://github.com/kaggle/docker-python\n",
    "# For example, here's several helpful packages to load\n",
    "\n",
    "import numpy as np # linear algebra\n",
    "import pandas as pd # data processing, CSV file I/O (e.g. pd.read_csv)\n",
    "\n",
    "# Input data files are available in the read-only \"../input/\" directory\n",
    "# For example, running this (by clicking run or pressing Shift+Enter) will list all files under the input directory\n",
    "\n",
    "import os\n",
    "for dirname, _, filenames in os.walk('/kaggle/input'):\n",
    "    for filename in filenames:\n",
    "        print(os.path.join(dirname, filename))\n",
    "\n",
    "# You can write up to 20GB to the current directory (/kaggle/working/) that gets preserved as output when you create a version using \"Save & Run All\" \n",
    "# You can also write temporary files to /kaggle/temp/, but they won't be saved outside of the current session"
   ]
  },
  {
   "cell_type": "code",
   "execution_count": 2,
   "metadata": {
    "_cell_guid": "79c7e3d0-c299-4dcb-8224-4455121ee9b0",
    "_uuid": "d629ff2d2480ee46fbb7e2d37f6b5fab8052498a",
    "execution": {
     "iopub.execute_input": "2020-12-18T05:26:28.024393Z",
     "iopub.status.busy": "2020-12-18T05:26:28.023710Z",
     "iopub.status.idle": "2020-12-18T05:26:38.949565Z",
     "shell.execute_reply": "2020-12-18T05:26:38.948384Z"
    },
    "papermill": {
     "duration": 10.938884,
     "end_time": "2020-12-18T05:26:38.949719",
     "exception": false,
     "start_time": "2020-12-18T05:26:28.010835",
     "status": "completed"
    },
    "tags": []
   },
   "outputs": [],
   "source": [
    "train = pd.read_csv('/kaggle/input/2020mlfinalexamp1/train.csv',index_col=0)\n",
    "test = pd.read_csv('/kaggle/input/2020mlfinalexamp1/test.csv',index_col=0)\n",
    "submit = pd.read_csv('/kaggle/input/2020mlfinalexamp1/sample_submission.csv')"
   ]
  },
  {
   "cell_type": "code",
   "execution_count": 3,
   "metadata": {
    "execution": {
     "iopub.execute_input": "2020-12-18T05:26:38.965658Z",
     "iopub.status.busy": "2020-12-18T05:26:38.964921Z",
     "iopub.status.idle": "2020-12-18T05:26:39.078925Z",
     "shell.execute_reply": "2020-12-18T05:26:39.079447Z"
    },
    "papermill": {
     "duration": 0.123629,
     "end_time": "2020-12-18T05:26:39.079630",
     "exception": false,
     "start_time": "2020-12-18T05:26:38.956001",
     "status": "completed"
    },
    "tags": []
   },
   "outputs": [],
   "source": [
    "x_train = train.loc[:,:'783']\n",
    "y_train = train.loc[:,'label']\n",
    "\n",
    "x_test = test.loc[:,:'783']"
   ]
  },
  {
   "cell_type": "code",
   "execution_count": 4,
   "metadata": {
    "execution": {
     "iopub.execute_input": "2020-12-18T05:26:39.096062Z",
     "iopub.status.busy": "2020-12-18T05:26:39.095223Z",
     "iopub.status.idle": "2020-12-18T05:37:38.190070Z",
     "shell.execute_reply": "2020-12-18T05:37:38.190640Z"
    },
    "papermill": {
     "duration": 659.104715,
     "end_time": "2020-12-18T05:37:38.190828",
     "exception": false,
     "start_time": "2020-12-18T05:26:39.086113",
     "status": "completed"
    },
    "tags": []
   },
   "outputs": [],
   "source": [
    "from sklearn.preprocessing import StandardScaler, MinMaxScaler\n",
    "from sklearn.svm import SVC\n",
    "from sklearn.pipeline import make_pipeline\n",
    "\n",
    "std = StandardScaler()\n",
    "mm = MinMaxScaler()\n",
    "\n",
    "cv = SVC(kernel = 'rbf', C = 10)\n",
    "\n",
    "clf = make_pipeline(mm,cv)\n",
    "clf.fit(x_train,y_train)\n",
    "pred = clf.predict(x_test)"
   ]
  },
  {
   "cell_type": "code",
   "execution_count": 5,
   "metadata": {
    "execution": {
     "iopub.execute_input": "2020-12-18T05:37:38.207176Z",
     "iopub.status.busy": "2020-12-18T05:37:38.206556Z",
     "iopub.status.idle": "2020-12-18T05:37:38.644152Z",
     "shell.execute_reply": "2020-12-18T05:37:38.643550Z"
    },
    "papermill": {
     "duration": 0.446953,
     "end_time": "2020-12-18T05:37:38.644344",
     "exception": false,
     "start_time": "2020-12-18T05:37:38.197391",
     "status": "completed"
    },
    "tags": []
   },
   "outputs": [],
   "source": [
    "submit['label'] = pred.astype(int)\n",
    "\n",
    "submit.to_csv('submission.csv',index=None, header=True)"
   ]
  },
  {
   "cell_type": "code",
   "execution_count": null,
   "metadata": {
    "papermill": {
     "duration": 0.006019,
     "end_time": "2020-12-18T05:37:38.656989",
     "exception": false,
     "start_time": "2020-12-18T05:37:38.650970",
     "status": "completed"
    },
    "tags": []
   },
   "outputs": [],
   "source": []
  }
 ],
 "metadata": {
  "kernelspec": {
   "display_name": "Python 3",
   "language": "python",
   "name": "python3"
  },
  "language_info": {
   "codemirror_mode": {
    "name": "ipython",
    "version": 3
   },
   "file_extension": ".py",
   "mimetype": "text/x-python",
   "name": "python",
   "nbconvert_exporter": "python",
   "pygments_lexer": "ipython3",
   "version": "3.7.6"
  },
  "papermill": {
   "duration": 675.968635,
   "end_time": "2020-12-18T05:37:38.771720",
   "environment_variables": {},
   "exception": null,
   "input_path": "__notebook__.ipynb",
   "output_path": "__notebook__.ipynb",
   "parameters": {},
   "start_time": "2020-12-18T05:26:22.803085",
   "version": "2.1.0"
  }
 },
 "nbformat": 4,
 "nbformat_minor": 4
}
