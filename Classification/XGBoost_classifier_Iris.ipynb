{
  "nbformat": 4,
  "nbformat_minor": 0,
  "metadata": {
    "colab": {
      "name": "XGBoost_classifier_Iris",
      "provenance": [],
      "authorship_tag": "ABX9TyMB8+WoneQtVgnFpKt1Lmq5",
      "include_colab_link": true
    },
    "kernelspec": {
      "name": "python3",
      "display_name": "Python 3"
    }
  },
  "cells": [
    {
      "cell_type": "markdown",
      "metadata": {
        "id": "view-in-github",
        "colab_type": "text"
      },
      "source": [
        "<a href=\"https://colab.research.google.com/github/minnnnji/Machine_Learning/blob/master/XGBoost_classifier_Iris.ipynb\" target=\"_parent\"><img src=\"https://colab.research.google.com/assets/colab-badge.svg\" alt=\"Open In Colab\"/></a>"
      ]
    },
    {
      "cell_type": "code",
      "metadata": {
        "id": "dQqdj9VQJlTt"
      },
      "source": [
        "import seaborn as sns # seaborn을 불러옴.\n",
        "iris=sns.load_dataset('iris') # iris라는 변수명으로 Iris data를 download함.\n",
        "X=iris.drop('species',axis=1) # 'species'열을 drop하고 특성변수 X를 정의함.\n",
        "y_=iris['species'] # 'species'열을 label y를 정의함.\n",
        "\n",
        "from sklearn.preprocessing import LabelEncoder # LabelEncoder() method를 불러옴\n",
        "classle=LabelEncoder() \n",
        "y=classle.fit_transform(iris['species'].values) # species 열의 문자형을 범주형 값으로 전환\n",
        "\n",
        "from sklearn.model_selection import train_test_split \n",
        "X_train,X_test,y_train,y_test=train_test_split(X,y, test_size=0.4, random_state=123, stratify=y)"
      ],
      "execution_count": 1,
      "outputs": []
    },
    {
      "cell_type": "code",
      "metadata": {
        "id": "XOPbELf-JmAn"
      },
      "source": [
        "import xgboost as xgb\n",
        "from xgboost import plot_importance\n",
        "from sklearn.metrics import accuracy_score, confusion_matrix, classification_report "
      ],
      "execution_count": 8,
      "outputs": []
    },
    {
      "cell_type": "code",
      "metadata": {
        "id": "w0vP9_wdKauv"
      },
      "source": [
        "xgb_model = xgb.XGBClassifier()"
      ],
      "execution_count": 6,
      "outputs": []
    },
    {
      "cell_type": "code",
      "metadata": {
        "id": "-1D6XqamKcuY",
        "outputId": "4fd6919e-70bd-4660-8ef3-48d96852f955",
        "colab": {
          "base_uri": "https://localhost:8080/",
          "height": 136
        }
      },
      "source": [
        "xgb_model.fit(X_train,y_train)\n",
        "xgb_model"
      ],
      "execution_count": 7,
      "outputs": [
        {
          "output_type": "execute_result",
          "data": {
            "text/plain": [
              "XGBClassifier(base_score=0.5, booster='gbtree', colsample_bylevel=1,\n",
              "              colsample_bynode=1, colsample_bytree=1, gamma=0,\n",
              "              learning_rate=0.1, max_delta_step=0, max_depth=3,\n",
              "              min_child_weight=1, missing=None, n_estimators=100, n_jobs=1,\n",
              "              nthread=None, objective='multi:softprob', random_state=0,\n",
              "              reg_alpha=0, reg_lambda=1, scale_pos_weight=1, seed=None,\n",
              "              silent=None, subsample=1, verbosity=1)"
            ]
          },
          "metadata": {
            "tags": []
          },
          "execution_count": 7
        }
      ]
    },
    {
      "cell_type": "code",
      "metadata": {
        "id": "Wjk3UHfALEaR",
        "outputId": "84141427-30a9-411a-cc29-a62415590d5b",
        "colab": {
          "base_uri": "https://localhost:8080/",
          "height": 85
        }
      },
      "source": [
        "fscore = xgb_model.get_booster().get_fscore()\n",
        "fscore"
      ],
      "execution_count": 10,
      "outputs": [
        {
          "output_type": "execute_result",
          "data": {
            "text/plain": [
              "{'petal_length': 214,\n",
              " 'petal_width': 88,\n",
              " 'sepal_length': 109,\n",
              " 'sepal_width': 16}"
            ]
          },
          "metadata": {
            "tags": []
          },
          "execution_count": 10
        }
      ]
    },
    {
      "cell_type": "code",
      "metadata": {
        "id": "yEhXarTFLeM1",
        "outputId": "ca31815f-0448-4398-c3d3-b05dced289a0",
        "colab": {
          "base_uri": "https://localhost:8080/",
          "height": 312
        }
      },
      "source": [
        "plot_importance(xgb_model)"
      ],
      "execution_count": 11,
      "outputs": [
        {
          "output_type": "execute_result",
          "data": {
            "text/plain": [
              "<matplotlib.axes._subplots.AxesSubplot at 0x7f22321f6390>"
            ]
          },
          "metadata": {
            "tags": []
          },
          "execution_count": 11
        },
        {
          "output_type": "display_data",
          "data": {
            "image/png": "[encoded data removed]",
            "text/plain": [
              "<Figure size 432x288 with 1 Axes>"
            ]
          },
          "metadata": {
            "tags": [],
            "needs_background": "light"
          }
        }
      ]
    },
    {
      "cell_type": "code",
      "metadata": {
        "id": "sPpuXvVsLkQ9",
        "outputId": "4e32bd4a-f614-46ca-b172-74dba5d04039",
        "colab": {
          "base_uri": "https://localhost:8080/",
          "height": 34
        }
      },
      "source": [
        "x_train_pred = xgb_model.predict(X_train)\n",
        "print('ACC : ',accuracy_score(y_train,x_train_pred))"
      ],
      "execution_count": 12,
      "outputs": [
        {
          "output_type": "stream",
          "text": [
            "ACC :  1.0\n"
          ],
          "name": "stdout"
        }
      ]
    },
    {
      "cell_type": "code",
      "metadata": {
        "id": "DKqqkToULyIW",
        "outputId": "a8062f1e-eca9-445f-ea71-1b08b57a923f",
        "colab": {
          "base_uri": "https://localhost:8080/",
          "height": 34
        }
      },
      "source": [
        "x_test_pred = xgb_model.predict(X_test)\n",
        "print('ACC : ',accuracy_score(y_test,x_test_pred))"
      ],
      "execution_count": 13,
      "outputs": [
        {
          "output_type": "stream",
          "text": [
            "ACC :  0.95\n"
          ],
          "name": "stdout"
        }
      ]
    },
    {
      "cell_type": "code",
      "metadata": {
        "id": "JDBlriJpMCkD"
      },
      "source": [
        ""
      ],
      "execution_count": null,
      "outputs": []
    }
  ]
}