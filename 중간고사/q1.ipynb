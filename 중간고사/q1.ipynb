{
  "nbformat": 4,
  "nbformat_minor": 0,
  "metadata": {
    "colab": {
      "name": "q1",
      "provenance": []
    },
    "kernelspec": {
      "name": "python3",
      "display_name": "Python 3"
    }
  },
  "cells": [
    {
      "cell_type": "code",
      "metadata": {
        "id": "3bEs0VPvFbTX",
        "outputId": "61b5d1dd-fa64-4c23-ab88-59f440367df6",
        "colab": {
          "resources": {
            "http://localhost:8080/nbextensions/google.colab/files.js": {
              "data": "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",
              "ok": true,
              "headers": [
                [
                  "content-type",
                  "application/javascript"
                ]
              ],
              "status": 200,
              "status_text": "OK"
            }
          },
          "base_uri": "https://localhost:8080/",
          "height": 90
        }
      },
      "source": [
        "from google.colab import files\n",
        "files.upload()"
      ],
      "execution_count": 3,
      "outputs": [
        {
          "output_type": "display_data",
          "data": {
            "text/html": [
              "\n",
              "     <input type=\"file\" id=\"files-821de4a9-4c49-4ee9-8aa5-d32d894b9b79\" name=\"files[]\" multiple disabled\n",
              "        style=\"border:none\" />\n",
              "     <output id=\"result-821de4a9-4c49-4ee9-8aa5-d32d894b9b79\">\n",
              "      Upload widget is only available when the cell has been executed in the\n",
              "      current browser session. Please rerun this cell to enable.\n",
              "      </output>\n",
              "      <script src=\"/nbextensions/google.colab/files.js\"></script> "
            ],
            "text/plain": [
              "<IPython.core.display.HTML object>"
            ]
          },
          "metadata": {
            "tags": []
          }
        },
        {
          "output_type": "stream",
          "text": [
            "Saving kaggle.json to kaggle.json\n"
          ],
          "name": "stdout"
        },
        {
          "output_type": "execute_result",
          "data": {
            "text/plain": [
              "{'kaggle.json': b'{\"username\":\"minzzzzi\",\"key\":\"74a980fb52033cf0ead89c84120a4a9c\"}'}"
            ]
          },
          "metadata": {
            "tags": []
          },
          "execution_count": 3
        }
      ]
    },
    {
      "cell_type": "code",
      "metadata": {
        "id": "gfMgQdTbFg7P",
        "outputId": "c3c4ca9e-c603-4e67-b5f2-510535abde4e",
        "colab": {
          "base_uri": "https://localhost:8080/",
          "height": 564
        }
      },
      "source": [
        "!pip uninstall -y kaggle\n",
        "!pip install --upgrade pip\n",
        "!pip install kaggle"
      ],
      "execution_count": 4,
      "outputs": [
        {
          "output_type": "stream",
          "text": [
            "Uninstalling kaggle-1.5.8:\n",
            "  Successfully uninstalled kaggle-1.5.8\n",
            "Collecting pip\n",
            "\u001b[?25l  Downloading https://files.pythonhosted.org/packages/cb/28/91f26bd088ce8e22169032100d4260614fc3da435025ff389ef1d396a433/pip-20.2.4-py2.py3-none-any.whl (1.5MB)\n",
            "\u001b[K     |████████████████████████████████| 1.5MB 8.6MB/s \n",
            "\u001b[?25hInstalling collected packages: pip\n",
            "  Found existing installation: pip 19.3.1\n",
            "    Uninstalling pip-19.3.1:\n",
            "      Successfully uninstalled pip-19.3.1\n",
            "Successfully installed pip-20.2.4\n",
            "Collecting kaggle\n",
            "  Downloading kaggle-1.5.9.tar.gz (58 kB)\n",
            "\u001b[K     |████████████████████████████████| 58 kB 3.1 MB/s \n",
            "\u001b[?25hRequirement already satisfied: six>=1.10 in /usr/local/lib/python3.6/dist-packages (from kaggle) (1.15.0)\n",
            "Requirement already satisfied: certifi in /usr/local/lib/python3.6/dist-packages (from kaggle) (2020.6.20)\n",
            "Requirement already satisfied: python-dateutil in /usr/local/lib/python3.6/dist-packages (from kaggle) (2.8.1)\n",
            "Requirement already satisfied: requests in /usr/local/lib/python3.6/dist-packages (from kaggle) (2.23.0)\n",
            "Requirement already satisfied: tqdm in /usr/local/lib/python3.6/dist-packages (from kaggle) (4.41.1)\n",
            "Requirement already satisfied: python-slugify in /usr/local/lib/python3.6/dist-packages (from kaggle) (4.0.1)\n",
            "Requirement already satisfied: slugify in /usr/local/lib/python3.6/dist-packages (from kaggle) (0.0.1)\n",
            "Requirement already satisfied: urllib3 in /usr/local/lib/python3.6/dist-packages (from kaggle) (1.24.3)\n",
            "Requirement already satisfied: chardet<4,>=3.0.2 in /usr/local/lib/python3.6/dist-packages (from requests->kaggle) (3.0.4)\n",
            "Requirement already satisfied: idna<3,>=2.5 in /usr/local/lib/python3.6/dist-packages (from requests->kaggle) (2.10)\n",
            "Requirement already satisfied: text-unidecode>=1.3 in /usr/local/lib/python3.6/dist-packages (from python-slugify->kaggle) (1.3)\n",
            "Building wheels for collected packages: kaggle\n",
            "  Building wheel for kaggle (setup.py) ... \u001b[?25l\u001b[?25hdone\n",
            "  Created wheel for kaggle: filename=kaggle-1.5.9-py3-none-any.whl size=73265 sha256=e483b06d1ed39374d996dd82e1e7e31ccdb7f3bc33fc84d02153a4240a12bdba\n",
            "  Stored in directory: /root/.cache/pip/wheels/9d/50/3d/2644504bb1e8c782f3fef5984f03d76fc4a74698fdec128b29\n",
            "Successfully built kaggle\n",
            "Installing collected packages: kaggle\n",
            "Successfully installed kaggle-1.5.9\n"
          ],
          "name": "stdout"
        }
      ]
    },
    {
      "cell_type": "code",
      "metadata": {
        "id": "_BrvRK9XFm25",
        "outputId": "cedfb5fb-951e-4323-97e2-6c5fdff61e47",
        "colab": {
          "base_uri": "https://localhost:8080/",
          "height": 34
        }
      },
      "source": [
        "!mkdir ~/.kaggle\n",
        "!cp kaggle.json ~/.kaggle\n",
        "!chmod 600 ~/.kaggle/kaggle.json"
      ],
      "execution_count": 5,
      "outputs": [
        {
          "output_type": "stream",
          "text": [
            "mkdir: cannot create directory ‘/root/.kaggle’: File exists\n"
          ],
          "name": "stdout"
        }
      ]
    },
    {
      "cell_type": "code",
      "metadata": {
        "id": "PfKVug7-Fs3Q",
        "outputId": "d2441f70-ba8c-4cd2-9d77-1c878d313b39",
        "colab": {
          "base_uri": "https://localhost:8080/",
          "height": 68
        }
      },
      "source": [
        "!kaggle competitions download -c 2020-ml-p1"
      ],
      "execution_count": 6,
      "outputs": [
        {
          "output_type": "stream",
          "text": [
            "Downloading 2020-ml-p1.zip to /content\n",
            "\r  0% 0.00/53.2k [00:00<?, ?B/s]\n",
            "\r100% 53.2k/53.2k [00:00<00:00, 42.6MB/s]\n"
          ],
          "name": "stdout"
        }
      ]
    },
    {
      "cell_type": "code",
      "metadata": {
        "id": "hF9gOPOWF0mX",
        "outputId": "5fa5bcf6-0c1e-40cd-f666-36721a9784f4",
        "colab": {
          "base_uri": "https://localhost:8080/",
          "height": 85
        }
      },
      "source": [
        "!unzip 2020-ml-p1.zip"
      ],
      "execution_count": 7,
      "outputs": [
        {
          "output_type": "stream",
          "text": [
            "Archive:  2020-ml-p1.zip\n",
            "  inflating: test.csv                \n",
            "  inflating: test_sampleSubmission.csv  \n",
            "  inflating: train.csv               \n"
          ],
          "name": "stdout"
        }
      ]
    },
    {
      "cell_type": "code",
      "metadata": {
        "id": "hbLdd-olFvTr"
      },
      "source": [
        "import pandas as pd\n",
        "import numpy as np"
      ],
      "execution_count": 8,
      "outputs": []
    },
    {
      "cell_type": "code",
      "metadata": {
        "id": "VgUd2VBSGLlk"
      },
      "source": [
        "from collections import Counter\n",
        "from imblearn.over_sampling import SMOTE\n",
        "sm = SMOTE()"
      ],
      "execution_count": 10,
      "outputs": []
    },
    {
      "cell_type": "code",
      "metadata": {
        "id": "sMS-QyxTGa3e"
      },
      "source": [
        "from sklearn.preprocessing import Normalizer, StandardScaler\n",
        "nor = Normalizer()\n",
        "std = StandardScaler()"
      ],
      "execution_count": 11,
      "outputs": []
    },
    {
      "cell_type": "code",
      "metadata": {
        "id": "Z62sWzENFzKj",
        "outputId": "1d165db0-e375-4b17-b37e-295b4d70075c",
        "colab": {
          "base_uri": "https://localhost:8080/",
          "height": 224
        }
      },
      "source": [
        "train = pd.read_csv('train.csv',header=None,skiprows=1)\n",
        "test = pd.read_csv('test.csv',header=None, skiprows=1)\n",
        "submit = pd.read_csv('test_sampleSubmission.csv')\n",
        "\n",
        "train[:5]"
      ],
      "execution_count": 12,
      "outputs": [
        {
          "output_type": "execute_result",
          "data": {
            "text/html": [
              "<div>\n",
              "<style scoped>\n",
              "    .dataframe tbody tr th:only-of-type {\n",
              "        vertical-align: middle;\n",
              "    }\n",
              "\n",
              "    .dataframe tbody tr th {\n",
              "        vertical-align: top;\n",
              "    }\n",
              "\n",
              "    .dataframe thead th {\n",
              "        text-align: right;\n",
              "    }\n",
              "</style>\n",
              "<table border=\"1\" class=\"dataframe\">\n",
              "  <thead>\n",
              "    <tr style=\"text-align: right;\">\n",
              "      <th></th>\n",
              "      <th>0</th>\n",
              "      <th>1</th>\n",
              "      <th>2</th>\n",
              "      <th>3</th>\n",
              "      <th>4</th>\n",
              "      <th>5</th>\n",
              "      <th>6</th>\n",
              "      <th>7</th>\n",
              "      <th>8</th>\n",
              "      <th>9</th>\n",
              "      <th>10</th>\n",
              "      <th>11</th>\n",
              "      <th>12</th>\n",
              "      <th>13</th>\n",
              "      <th>14</th>\n",
              "      <th>15</th>\n",
              "      <th>16</th>\n",
              "      <th>17</th>\n",
              "      <th>18</th>\n",
              "      <th>19</th>\n",
              "      <th>20</th>\n",
              "      <th>21</th>\n",
              "      <th>22</th>\n",
              "      <th>23</th>\n",
              "      <th>24</th>\n",
              "      <th>25</th>\n",
              "      <th>26</th>\n",
              "      <th>27</th>\n",
              "      <th>28</th>\n",
              "      <th>29</th>\n",
              "      <th>30</th>\n",
              "      <th>31</th>\n",
              "    </tr>\n",
              "  </thead>\n",
              "  <tbody>\n",
              "    <tr>\n",
              "      <th>0</th>\n",
              "      <td>0</td>\n",
              "      <td>8.734</td>\n",
              "      <td>16.84</td>\n",
              "      <td>55.27</td>\n",
              "      <td>234.3</td>\n",
              "      <td>0.10390</td>\n",
              "      <td>0.07428</td>\n",
              "      <td>0.00000</td>\n",
              "      <td>0.00000</td>\n",
              "      <td>0.1985</td>\n",
              "      <td>0.07098</td>\n",
              "      <td>0.5169</td>\n",
              "      <td>2.079</td>\n",
              "      <td>3.167</td>\n",
              "      <td>28.85</td>\n",
              "      <td>0.015820</td>\n",
              "      <td>0.019660</td>\n",
              "      <td>0.00000</td>\n",
              "      <td>0.000000</td>\n",
              "      <td>0.01865</td>\n",
              "      <td>0.006736</td>\n",
              "      <td>10.17</td>\n",
              "      <td>22.80</td>\n",
              "      <td>64.01</td>\n",
              "      <td>317.0</td>\n",
              "      <td>0.1460</td>\n",
              "      <td>0.1310</td>\n",
              "      <td>0.0000</td>\n",
              "      <td>0.00000</td>\n",
              "      <td>0.2445</td>\n",
              "      <td>0.08865</td>\n",
              "      <td>NaN</td>\n",
              "    </tr>\n",
              "    <tr>\n",
              "      <th>1</th>\n",
              "      <td>0</td>\n",
              "      <td>11.360</td>\n",
              "      <td>17.57</td>\n",
              "      <td>72.49</td>\n",
              "      <td>399.8</td>\n",
              "      <td>0.08858</td>\n",
              "      <td>0.05313</td>\n",
              "      <td>0.02783</td>\n",
              "      <td>0.02100</td>\n",
              "      <td>0.1601</td>\n",
              "      <td>0.05913</td>\n",
              "      <td>0.1916</td>\n",
              "      <td>1.555</td>\n",
              "      <td>1.359</td>\n",
              "      <td>13.66</td>\n",
              "      <td>0.005391</td>\n",
              "      <td>0.009947</td>\n",
              "      <td>0.01163</td>\n",
              "      <td>0.005872</td>\n",
              "      <td>0.01341</td>\n",
              "      <td>0.001659</td>\n",
              "      <td>13.05</td>\n",
              "      <td>36.32</td>\n",
              "      <td>85.07</td>\n",
              "      <td>521.3</td>\n",
              "      <td>0.1453</td>\n",
              "      <td>0.1622</td>\n",
              "      <td>0.1811</td>\n",
              "      <td>0.08698</td>\n",
              "      <td>0.2973</td>\n",
              "      <td>0.07745</td>\n",
              "      <td>NaN</td>\n",
              "    </tr>\n",
              "    <tr>\n",
              "      <th>2</th>\n",
              "      <td>1</td>\n",
              "      <td>14.950</td>\n",
              "      <td>17.57</td>\n",
              "      <td>96.85</td>\n",
              "      <td>678.1</td>\n",
              "      <td>0.11670</td>\n",
              "      <td>0.13050</td>\n",
              "      <td>0.15390</td>\n",
              "      <td>0.08624</td>\n",
              "      <td>0.1957</td>\n",
              "      <td>0.06216</td>\n",
              "      <td>1.2960</td>\n",
              "      <td>1.452</td>\n",
              "      <td>8.419</td>\n",
              "      <td>101.90</td>\n",
              "      <td>0.010000</td>\n",
              "      <td>0.034800</td>\n",
              "      <td>0.06577</td>\n",
              "      <td>0.028010</td>\n",
              "      <td>0.05168</td>\n",
              "      <td>0.002887</td>\n",
              "      <td>18.55</td>\n",
              "      <td>21.43</td>\n",
              "      <td>121.40</td>\n",
              "      <td>971.4</td>\n",
              "      <td>0.1411</td>\n",
              "      <td>0.2164</td>\n",
              "      <td>0.3355</td>\n",
              "      <td>0.16670</td>\n",
              "      <td>0.3414</td>\n",
              "      <td>0.07147</td>\n",
              "      <td>NaN</td>\n",
              "    </tr>\n",
              "    <tr>\n",
              "      <th>3</th>\n",
              "      <td>1</td>\n",
              "      <td>17.350</td>\n",
              "      <td>23.06</td>\n",
              "      <td>111.00</td>\n",
              "      <td>933.1</td>\n",
              "      <td>0.08662</td>\n",
              "      <td>0.06290</td>\n",
              "      <td>0.02891</td>\n",
              "      <td>0.02837</td>\n",
              "      <td>0.1564</td>\n",
              "      <td>0.05307</td>\n",
              "      <td>0.4007</td>\n",
              "      <td>1.317</td>\n",
              "      <td>2.577</td>\n",
              "      <td>44.41</td>\n",
              "      <td>0.005726</td>\n",
              "      <td>0.011060</td>\n",
              "      <td>0.01246</td>\n",
              "      <td>0.007671</td>\n",
              "      <td>0.01411</td>\n",
              "      <td>0.001578</td>\n",
              "      <td>19.85</td>\n",
              "      <td>31.47</td>\n",
              "      <td>128.20</td>\n",
              "      <td>1218.0</td>\n",
              "      <td>0.1240</td>\n",
              "      <td>0.1486</td>\n",
              "      <td>0.1211</td>\n",
              "      <td>0.08235</td>\n",
              "      <td>0.2452</td>\n",
              "      <td>0.06515</td>\n",
              "      <td>NaN</td>\n",
              "    </tr>\n",
              "    <tr>\n",
              "      <th>4</th>\n",
              "      <td>0</td>\n",
              "      <td>11.060</td>\n",
              "      <td>17.12</td>\n",
              "      <td>71.25</td>\n",
              "      <td>366.5</td>\n",
              "      <td>0.11940</td>\n",
              "      <td>0.10710</td>\n",
              "      <td>0.04063</td>\n",
              "      <td>0.04268</td>\n",
              "      <td>0.1954</td>\n",
              "      <td>0.07976</td>\n",
              "      <td>0.1779</td>\n",
              "      <td>1.030</td>\n",
              "      <td>1.318</td>\n",
              "      <td>12.30</td>\n",
              "      <td>0.012620</td>\n",
              "      <td>0.023480</td>\n",
              "      <td>0.01800</td>\n",
              "      <td>0.012850</td>\n",
              "      <td>0.02220</td>\n",
              "      <td>0.008313</td>\n",
              "      <td>11.69</td>\n",
              "      <td>20.74</td>\n",
              "      <td>76.08</td>\n",
              "      <td>411.1</td>\n",
              "      <td>0.1662</td>\n",
              "      <td>0.2031</td>\n",
              "      <td>0.1256</td>\n",
              "      <td>0.09514</td>\n",
              "      <td>0.2780</td>\n",
              "      <td>0.11680</td>\n",
              "      <td>NaN</td>\n",
              "    </tr>\n",
              "  </tbody>\n",
              "</table>\n",
              "</div>"
            ],
            "text/plain": [
              "   0       1      2       3      4   ...      27       28      29       30  31\n",
              "0   0   8.734  16.84   55.27  234.3  ...  0.0000  0.00000  0.2445  0.08865 NaN\n",
              "1   0  11.360  17.57   72.49  399.8  ...  0.1811  0.08698  0.2973  0.07745 NaN\n",
              "2   1  14.950  17.57   96.85  678.1  ...  0.3355  0.16670  0.3414  0.07147 NaN\n",
              "3   1  17.350  23.06  111.00  933.1  ...  0.1211  0.08235  0.2452  0.06515 NaN\n",
              "4   0  11.060  17.12   71.25  366.5  ...  0.1256  0.09514  0.2780  0.11680 NaN\n",
              "\n",
              "[5 rows x 32 columns]"
            ]
          },
          "metadata": {
            "tags": []
          },
          "execution_count": 12
        }
      ]
    },
    {
      "cell_type": "code",
      "metadata": {
        "id": "N-SvMSMeGlaO",
        "outputId": "59cf2e0b-c599-4f2c-b94e-2719bf558527",
        "colab": {
          "base_uri": "https://localhost:8080/",
          "height": 224
        }
      },
      "source": [
        "test[:5]"
      ],
      "execution_count": 11,
      "outputs": [
        {
          "output_type": "execute_result",
          "data": {
            "text/html": [
              "<div>\n",
              "<style scoped>\n",
              "    .dataframe tbody tr th:only-of-type {\n",
              "        vertical-align: middle;\n",
              "    }\n",
              "\n",
              "    .dataframe tbody tr th {\n",
              "        vertical-align: top;\n",
              "    }\n",
              "\n",
              "    .dataframe thead th {\n",
              "        text-align: right;\n",
              "    }\n",
              "</style>\n",
              "<table border=\"1\" class=\"dataframe\">\n",
              "  <thead>\n",
              "    <tr style=\"text-align: right;\">\n",
              "      <th></th>\n",
              "      <th>0</th>\n",
              "      <th>1</th>\n",
              "      <th>2</th>\n",
              "      <th>3</th>\n",
              "      <th>4</th>\n",
              "      <th>5</th>\n",
              "      <th>6</th>\n",
              "      <th>7</th>\n",
              "      <th>8</th>\n",
              "      <th>9</th>\n",
              "      <th>10</th>\n",
              "      <th>11</th>\n",
              "      <th>12</th>\n",
              "      <th>13</th>\n",
              "      <th>14</th>\n",
              "      <th>15</th>\n",
              "      <th>16</th>\n",
              "      <th>17</th>\n",
              "      <th>18</th>\n",
              "      <th>19</th>\n",
              "      <th>20</th>\n",
              "      <th>21</th>\n",
              "      <th>22</th>\n",
              "      <th>23</th>\n",
              "      <th>24</th>\n",
              "      <th>25</th>\n",
              "      <th>26</th>\n",
              "      <th>27</th>\n",
              "      <th>28</th>\n",
              "      <th>29</th>\n",
              "      <th>30</th>\n",
              "    </tr>\n",
              "  </thead>\n",
              "  <tbody>\n",
              "    <tr>\n",
              "      <th>0</th>\n",
              "      <td>11.670</td>\n",
              "      <td>20.02</td>\n",
              "      <td>75.21</td>\n",
              "      <td>416.2</td>\n",
              "      <td>0.10160</td>\n",
              "      <td>0.09453</td>\n",
              "      <td>0.04200</td>\n",
              "      <td>0.02157</td>\n",
              "      <td>0.1859</td>\n",
              "      <td>0.06461</td>\n",
              "      <td>0.2067</td>\n",
              "      <td>0.8745</td>\n",
              "      <td>1.393</td>\n",
              "      <td>15.34</td>\n",
              "      <td>0.005251</td>\n",
              "      <td>0.017270</td>\n",
              "      <td>0.01840</td>\n",
              "      <td>0.005298</td>\n",
              "      <td>0.01449</td>\n",
              "      <td>0.002671</td>\n",
              "      <td>13.35</td>\n",
              "      <td>28.81</td>\n",
              "      <td>87.00</td>\n",
              "      <td>550.6</td>\n",
              "      <td>0.1550</td>\n",
              "      <td>0.2964</td>\n",
              "      <td>0.27580</td>\n",
              "      <td>0.08120</td>\n",
              "      <td>0.3206</td>\n",
              "      <td>0.08950</td>\n",
              "      <td>NaN</td>\n",
              "    </tr>\n",
              "    <tr>\n",
              "      <th>1</th>\n",
              "      <td>10.800</td>\n",
              "      <td>9.71</td>\n",
              "      <td>68.77</td>\n",
              "      <td>357.6</td>\n",
              "      <td>0.09594</td>\n",
              "      <td>0.05736</td>\n",
              "      <td>0.02531</td>\n",
              "      <td>0.01698</td>\n",
              "      <td>0.1381</td>\n",
              "      <td>0.06400</td>\n",
              "      <td>0.1728</td>\n",
              "      <td>0.4064</td>\n",
              "      <td>1.126</td>\n",
              "      <td>11.48</td>\n",
              "      <td>0.007809</td>\n",
              "      <td>0.009816</td>\n",
              "      <td>0.01099</td>\n",
              "      <td>0.005344</td>\n",
              "      <td>0.01254</td>\n",
              "      <td>0.002120</td>\n",
              "      <td>11.60</td>\n",
              "      <td>12.02</td>\n",
              "      <td>73.66</td>\n",
              "      <td>414.0</td>\n",
              "      <td>0.1436</td>\n",
              "      <td>0.1257</td>\n",
              "      <td>0.10470</td>\n",
              "      <td>0.04603</td>\n",
              "      <td>0.2090</td>\n",
              "      <td>0.07699</td>\n",
              "      <td>NaN</td>\n",
              "    </tr>\n",
              "    <tr>\n",
              "      <th>2</th>\n",
              "      <td>12.450</td>\n",
              "      <td>16.41</td>\n",
              "      <td>82.85</td>\n",
              "      <td>476.7</td>\n",
              "      <td>0.09514</td>\n",
              "      <td>0.15110</td>\n",
              "      <td>0.15440</td>\n",
              "      <td>0.04846</td>\n",
              "      <td>0.2082</td>\n",
              "      <td>0.07325</td>\n",
              "      <td>0.3921</td>\n",
              "      <td>1.2070</td>\n",
              "      <td>5.004</td>\n",
              "      <td>30.19</td>\n",
              "      <td>0.007234</td>\n",
              "      <td>0.074710</td>\n",
              "      <td>0.11140</td>\n",
              "      <td>0.027210</td>\n",
              "      <td>0.03232</td>\n",
              "      <td>0.009627</td>\n",
              "      <td>13.78</td>\n",
              "      <td>21.03</td>\n",
              "      <td>97.82</td>\n",
              "      <td>580.6</td>\n",
              "      <td>0.1175</td>\n",
              "      <td>0.4061</td>\n",
              "      <td>0.48960</td>\n",
              "      <td>0.13420</td>\n",
              "      <td>0.3231</td>\n",
              "      <td>0.10340</td>\n",
              "      <td>NaN</td>\n",
              "    </tr>\n",
              "    <tr>\n",
              "      <th>3</th>\n",
              "      <td>9.465</td>\n",
              "      <td>21.01</td>\n",
              "      <td>60.11</td>\n",
              "      <td>269.4</td>\n",
              "      <td>0.10440</td>\n",
              "      <td>0.07773</td>\n",
              "      <td>0.02172</td>\n",
              "      <td>0.01504</td>\n",
              "      <td>0.1717</td>\n",
              "      <td>0.06899</td>\n",
              "      <td>0.2351</td>\n",
              "      <td>2.0110</td>\n",
              "      <td>1.660</td>\n",
              "      <td>14.20</td>\n",
              "      <td>0.010520</td>\n",
              "      <td>0.017550</td>\n",
              "      <td>0.01714</td>\n",
              "      <td>0.009333</td>\n",
              "      <td>0.02279</td>\n",
              "      <td>0.004237</td>\n",
              "      <td>10.41</td>\n",
              "      <td>31.56</td>\n",
              "      <td>67.03</td>\n",
              "      <td>330.7</td>\n",
              "      <td>0.1548</td>\n",
              "      <td>0.1664</td>\n",
              "      <td>0.09412</td>\n",
              "      <td>0.06517</td>\n",
              "      <td>0.2878</td>\n",
              "      <td>0.09211</td>\n",
              "      <td>NaN</td>\n",
              "    </tr>\n",
              "    <tr>\n",
              "      <th>4</th>\n",
              "      <td>13.650</td>\n",
              "      <td>13.16</td>\n",
              "      <td>87.88</td>\n",
              "      <td>568.9</td>\n",
              "      <td>0.09646</td>\n",
              "      <td>0.08711</td>\n",
              "      <td>0.03888</td>\n",
              "      <td>0.02563</td>\n",
              "      <td>0.1360</td>\n",
              "      <td>0.06344</td>\n",
              "      <td>0.2102</td>\n",
              "      <td>0.4336</td>\n",
              "      <td>1.391</td>\n",
              "      <td>17.40</td>\n",
              "      <td>0.004133</td>\n",
              "      <td>0.016950</td>\n",
              "      <td>0.01652</td>\n",
              "      <td>0.006659</td>\n",
              "      <td>0.01371</td>\n",
              "      <td>0.002735</td>\n",
              "      <td>15.34</td>\n",
              "      <td>16.35</td>\n",
              "      <td>99.71</td>\n",
              "      <td>706.2</td>\n",
              "      <td>0.1311</td>\n",
              "      <td>0.2474</td>\n",
              "      <td>0.17590</td>\n",
              "      <td>0.08056</td>\n",
              "      <td>0.2380</td>\n",
              "      <td>0.08718</td>\n",
              "      <td>NaN</td>\n",
              "    </tr>\n",
              "  </tbody>\n",
              "</table>\n",
              "</div>"
            ],
            "text/plain": [
              "       0      1      2      3        4   ...       26       27      28       29  30\n",
              "0  11.670  20.02  75.21  416.2  0.10160  ...  0.27580  0.08120  0.3206  0.08950 NaN\n",
              "1  10.800   9.71  68.77  357.6  0.09594  ...  0.10470  0.04603  0.2090  0.07699 NaN\n",
              "2  12.450  16.41  82.85  476.7  0.09514  ...  0.48960  0.13420  0.3231  0.10340 NaN\n",
              "3   9.465  21.01  60.11  269.4  0.10440  ...  0.09412  0.06517  0.2878  0.09211 NaN\n",
              "4  13.650  13.16  87.88  568.9  0.09646  ...  0.17590  0.08056  0.2380  0.08718 NaN\n",
              "\n",
              "[5 rows x 31 columns]"
            ]
          },
          "metadata": {
            "tags": []
          },
          "execution_count": 11
        }
      ]
    },
    {
      "cell_type": "code",
      "metadata": {
        "id": "d7Ib9rbmGAbf"
      },
      "source": [
        "x_train = train.loc[:,1:30]\n",
        "y_train = train.loc[:,0]\n",
        "\n",
        "x_test = test.loc[:,0:29]\n",
        "\n",
        "x_train_std = std.fit_transform(x_train)\n",
        "x_test_std = std.fit_transform(x_test)\n",
        "x_train_nor = nor.fit_transform(x_train)\n",
        "x_test_nor = nor.fit_transform(x_test)"
      ],
      "execution_count": 13,
      "outputs": []
    },
    {
      "cell_type": "code",
      "metadata": {
        "id": "KPiqg48qHJCU",
        "outputId": "62ed711a-cbf5-4951-eb6f-13e8624f80bd",
        "colab": {
          "base_uri": "https://localhost:8080/",
          "height": 34
        }
      },
      "source": [
        "print(Counter(y_train))"
      ],
      "execution_count": 17,
      "outputs": [
        {
          "output_type": "stream",
          "text": [
            "Counter({0: 252, 1: 146})\n"
          ],
          "name": "stdout"
        }
      ]
    },
    {
      "cell_type": "code",
      "metadata": {
        "id": "xiZZjpHqG1pK",
        "outputId": "3ce4fcc6-fc2c-427f-d123-390bbf083139",
        "colab": {
          "base_uri": "https://localhost:8080/",
          "height": 105
        }
      },
      "source": [
        "'''\n",
        "#KNN 0.91\n",
        "\n",
        "from sklearn.neighbors import KNeighborsClassifier\n",
        "KNN = KNeighborsClassifier(n_neighbors=20,p=2)\n",
        "KNN.fit(x_train,y_train)\n",
        "\n",
        "test_pred = KNN.predict(x_test)\n",
        "\n",
        "for i in range(len(test_pred)):\n",
        "  submit['diagnosis'][i] = test_pred[i]\n",
        "\n",
        "submit.to_csv('submission.csv',header=True,index = None)\n",
        "!kaggle competitions submit -c 2020-ml-p1 -f submission.csv -m \"KNN\"\n",
        "'''"
      ],
      "execution_count": 1,
      "outputs": [
        {
          "output_type": "execute_result",
          "data": {
            "application/vnd.google.colaboratory.intrinsic+json": {
              "type": "string"
            },
            "text/plain": [
              "'\\n#KNN 0.91\\n\\nfrom sklearn.neighbors import KNeighborsClassifier\\nKNN = KNeighborsClassifier(n_neighbors=20,p=2)\\nKNN.fit(x_train,y_train)\\n\\ntest_pred = KNN.predict(x_test)\\n\\nfor i in range(len(test_pred)):\\n  submit[\\'diagnosis\\'][i] = test_pred[i]\\n\\nsubmit.to_csv(\\'submission.csv\\',header=True,index = None)\\n!kaggle competitions submit -c 2020-ml-p1 -f submission.csv -m \"KNN\"\\n'"
            ]
          },
          "metadata": {
            "tags": []
          },
          "execution_count": 1
        }
      ]
    },
    {
      "cell_type": "code",
      "metadata": {
        "id": "7Abyi8QHH8Wj",
        "outputId": "b106f713-2b24-441c-e6b7-480e7de93bc2",
        "colab": {
          "base_uri": "https://localhost:8080/",
          "height": 51
        }
      },
      "source": [
        "# DTC 0.95\n",
        "from sklearn.tree import DecisionTreeClassifier\n",
        "dtc = DecisionTreeClassifier(random_state=1,criterion='gini',max_depth=5)\n",
        "\n",
        "dtc.fit(x_train,y_train)\n",
        "test_pred = dtc.predict(x_test)\n",
        "\n",
        "for i in range(len(test_pred)):\n",
        "  submit['diagnosis'][i] = test_pred[i]\n",
        "\n",
        "submit.to_csv('submission.csv',header=True,index = None)\n",
        "!kaggle competitions submit -c 2020-ml-p1 -f submission.csv -m \"dtc\""
      ],
      "execution_count": 14,
      "outputs": [
        {
          "output_type": "stream",
          "text": [
            "100% 929/929 [00:04<00:00, 232B/s]\n",
            "Successfully submitted to 2020.ML.중간고사.문제1"
          ],
          "name": "stdout"
        }
      ]
    },
    {
      "cell_type": "code",
      "metadata": {
        "id": "mBjhzYioIbyY"
      },
      "source": [
        ""
      ],
      "execution_count": null,
      "outputs": []
    },
    {
      "cell_type": "code",
      "metadata": {
        "id": "dSOfbthgHQ3D"
      },
      "source": [
        ""
      ],
      "execution_count": null,
      "outputs": []
    }
  ]
}